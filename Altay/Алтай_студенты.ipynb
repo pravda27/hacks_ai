{
  "nbformat": 4,
  "nbformat_minor": 0,
  "metadata": {
    "colab": {
      "provenance": []
    },
    "kernelspec": {
      "name": "python3",
      "display_name": "Python 3"
    },
    "language_info": {
      "name": "python"
    }
  },
  "cells": [
    {
      "cell_type": "markdown",
      "source": [
        "## Загрузим нужные библиотеки и файлы"
      ],
      "metadata": {
        "id": "qb_ajqWXuguV"
      }
    },
    {
      "cell_type": "code",
      "execution_count": 1,
      "metadata": {
        "id": "MTgpe_1quUDs"
      },
      "outputs": [],
      "source": [
        "import pandas as pd\n",
        "import seaborn as sns\n",
        "import matplotlib.pyplot as plt\n",
        "from sklearn.model_selection import train_test_split\n",
        "from sklearn.ensemble import RandomForestClassifier\n",
        "from sklearn.ensemble import GradientBoostingClassifier\n",
        "from xgboost import XGBClassifier\n",
        "from sklearn.metrics import classification_report\n",
        "from sklearn import tree\n",
        "import numpy as np\n",
        "from sklearn.metrics import f1_score\n",
        "from google.colab.data_table import DataTable\n",
        "DataTable.max_columns = 80\n",
        "%matplotlib inline"
      ]
    },
    {
      "cell_type": "code",
      "source": [
        "from google.colab import files\n",
        "\n",
        "\n",
        "uploaded = files.upload()\n",
        "\n",
        "for fn in uploaded.keys():\n",
        "  print('User uploaded file \"{name}\" with length {length} bytes'.format(\n",
        "      name=fn, length=len(uploaded[fn])))"
      ],
      "metadata": {
        "colab": {
          "base_uri": "https://localhost:8080/",
          "height": 201
        },
        "id": "Ngk_NXze5zPx",
        "outputId": "64e4a3c5-11f7-4107-f687-c1edeba2ccf8"
      },
      "execution_count": 2,
      "outputs": [
        {
          "output_type": "display_data",
          "data": {
            "text/plain": [
              "<IPython.core.display.HTML object>"
            ],
            "text/html": [
              "\n",
              "     <input type=\"file\" id=\"files-39475f2a-b2b6-4d03-a66a-53e41a49f6a7\" name=\"files[]\" multiple disabled\n",
              "        style=\"border:none\" />\n",
              "     <output id=\"result-39475f2a-b2b6-4d03-a66a-53e41a49f6a7\">\n",
              "      Upload widget is only available when the cell has been executed in the\n",
              "      current browser session. Please rerun this cell to enable.\n",
              "      </output>\n",
              "      <script>// Copyright 2017 Google LLC\n",
              "//\n",
              "// Licensed under the Apache License, Version 2.0 (the \"License\");\n",
              "// you may not use this file except in compliance with the License.\n",
              "// You may obtain a copy of the License at\n",
              "//\n",
              "//      http://www.apache.org/licenses/LICENSE-2.0\n",
              "//\n",
              "// Unless required by applicable law or agreed to in writing, software\n",
              "// distributed under the License is distributed on an \"AS IS\" BASIS,\n",
              "// WITHOUT WARRANTIES OR CONDITIONS OF ANY KIND, either express or implied.\n",
              "// See the License for the specific language governing permissions and\n",
              "// limitations under the License.\n",
              "\n",
              "/**\n",
              " * @fileoverview Helpers for google.colab Python module.\n",
              " */\n",
              "(function(scope) {\n",
              "function span(text, styleAttributes = {}) {\n",
              "  const element = document.createElement('span');\n",
              "  element.textContent = text;\n",
              "  for (const key of Object.keys(styleAttributes)) {\n",
              "    element.style[key] = styleAttributes[key];\n",
              "  }\n",
              "  return element;\n",
              "}\n",
              "\n",
              "// Max number of bytes which will be uploaded at a time.\n",
              "const MAX_PAYLOAD_SIZE = 100 * 1024;\n",
              "\n",
              "function _uploadFiles(inputId, outputId) {\n",
              "  const steps = uploadFilesStep(inputId, outputId);\n",
              "  const outputElement = document.getElementById(outputId);\n",
              "  // Cache steps on the outputElement to make it available for the next call\n",
              "  // to uploadFilesContinue from Python.\n",
              "  outputElement.steps = steps;\n",
              "\n",
              "  return _uploadFilesContinue(outputId);\n",
              "}\n",
              "\n",
              "// This is roughly an async generator (not supported in the browser yet),\n",
              "// where there are multiple asynchronous steps and the Python side is going\n",
              "// to poll for completion of each step.\n",
              "// This uses a Promise to block the python side on completion of each step,\n",
              "// then passes the result of the previous step as the input to the next step.\n",
              "function _uploadFilesContinue(outputId) {\n",
              "  const outputElement = document.getElementById(outputId);\n",
              "  const steps = outputElement.steps;\n",
              "\n",
              "  const next = steps.next(outputElement.lastPromiseValue);\n",
              "  return Promise.resolve(next.value.promise).then((value) => {\n",
              "    // Cache the last promise value to make it available to the next\n",
              "    // step of the generator.\n",
              "    outputElement.lastPromiseValue = value;\n",
              "    return next.value.response;\n",
              "  });\n",
              "}\n",
              "\n",
              "/**\n",
              " * Generator function which is called between each async step of the upload\n",
              " * process.\n",
              " * @param {string} inputId Element ID of the input file picker element.\n",
              " * @param {string} outputId Element ID of the output display.\n",
              " * @return {!Iterable<!Object>} Iterable of next steps.\n",
              " */\n",
              "function* uploadFilesStep(inputId, outputId) {\n",
              "  const inputElement = document.getElementById(inputId);\n",
              "  inputElement.disabled = false;\n",
              "\n",
              "  const outputElement = document.getElementById(outputId);\n",
              "  outputElement.innerHTML = '';\n",
              "\n",
              "  const pickedPromise = new Promise((resolve) => {\n",
              "    inputElement.addEventListener('change', (e) => {\n",
              "      resolve(e.target.files);\n",
              "    });\n",
              "  });\n",
              "\n",
              "  const cancel = document.createElement('button');\n",
              "  inputElement.parentElement.appendChild(cancel);\n",
              "  cancel.textContent = 'Cancel upload';\n",
              "  const cancelPromise = new Promise((resolve) => {\n",
              "    cancel.onclick = () => {\n",
              "      resolve(null);\n",
              "    };\n",
              "  });\n",
              "\n",
              "  // Wait for the user to pick the files.\n",
              "  const files = yield {\n",
              "    promise: Promise.race([pickedPromise, cancelPromise]),\n",
              "    response: {\n",
              "      action: 'starting',\n",
              "    }\n",
              "  };\n",
              "\n",
              "  cancel.remove();\n",
              "\n",
              "  // Disable the input element since further picks are not allowed.\n",
              "  inputElement.disabled = true;\n",
              "\n",
              "  if (!files) {\n",
              "    return {\n",
              "      response: {\n",
              "        action: 'complete',\n",
              "      }\n",
              "    };\n",
              "  }\n",
              "\n",
              "  for (const file of files) {\n",
              "    const li = document.createElement('li');\n",
              "    li.append(span(file.name, {fontWeight: 'bold'}));\n",
              "    li.append(span(\n",
              "        `(${file.type || 'n/a'}) - ${file.size} bytes, ` +\n",
              "        `last modified: ${\n",
              "            file.lastModifiedDate ? file.lastModifiedDate.toLocaleDateString() :\n",
              "                                    'n/a'} - `));\n",
              "    const percent = span('0% done');\n",
              "    li.appendChild(percent);\n",
              "\n",
              "    outputElement.appendChild(li);\n",
              "\n",
              "    const fileDataPromise = new Promise((resolve) => {\n",
              "      const reader = new FileReader();\n",
              "      reader.onload = (e) => {\n",
              "        resolve(e.target.result);\n",
              "      };\n",
              "      reader.readAsArrayBuffer(file);\n",
              "    });\n",
              "    // Wait for the data to be ready.\n",
              "    let fileData = yield {\n",
              "      promise: fileDataPromise,\n",
              "      response: {\n",
              "        action: 'continue',\n",
              "      }\n",
              "    };\n",
              "\n",
              "    // Use a chunked sending to avoid message size limits. See b/62115660.\n",
              "    let position = 0;\n",
              "    do {\n",
              "      const length = Math.min(fileData.byteLength - position, MAX_PAYLOAD_SIZE);\n",
              "      const chunk = new Uint8Array(fileData, position, length);\n",
              "      position += length;\n",
              "\n",
              "      const base64 = btoa(String.fromCharCode.apply(null, chunk));\n",
              "      yield {\n",
              "        response: {\n",
              "          action: 'append',\n",
              "          file: file.name,\n",
              "          data: base64,\n",
              "        },\n",
              "      };\n",
              "\n",
              "      let percentDone = fileData.byteLength === 0 ?\n",
              "          100 :\n",
              "          Math.round((position / fileData.byteLength) * 100);\n",
              "      percent.textContent = `${percentDone}% done`;\n",
              "\n",
              "    } while (position < fileData.byteLength);\n",
              "  }\n",
              "\n",
              "  // All done.\n",
              "  yield {\n",
              "    response: {\n",
              "      action: 'complete',\n",
              "    }\n",
              "  };\n",
              "}\n",
              "\n",
              "scope.google = scope.google || {};\n",
              "scope.google.colab = scope.google.colab || {};\n",
              "scope.google.colab._files = {\n",
              "  _uploadFiles,\n",
              "  _uploadFilesContinue,\n",
              "};\n",
              "})(self);\n",
              "</script> "
            ]
          },
          "metadata": {}
        },
        {
          "output_type": "stream",
          "name": "stdout",
          "text": [
            "Saving sample_submission1.csv to sample_submission1.csv\n",
            "Saving test_dataset_test (1).csv to test_dataset_test (1).csv\n",
            "Saving train_dataset_train.csv to train_dataset_train.csv\n",
            "User uploaded file \"sample_submission1.csv\" with length 46893 bytes\n",
            "User uploaded file \"test_dataset_test (1).csv\" with length 2050262 bytes\n",
            "User uploaded file \"train_dataset_train.csv\" with length 4186716 bytes\n"
          ]
        }
      ]
    },
    {
      "cell_type": "code",
      "source": [
        "df = pd.read_csv('train_dataset_train.csv')"
      ],
      "metadata": {
        "id": "ek9ZOl0X58j-"
      },
      "execution_count": 46,
      "outputs": []
    },
    {
      "cell_type": "markdown",
      "source": [
        "## Рассмотрим датасет поближе"
      ],
      "metadata": {
        "id": "GgCS5B_PutbW"
      }
    },
    {
      "cell_type": "code",
      "source": [
        "df.head(5)"
      ],
      "metadata": {
        "colab": {
          "base_uri": "https://localhost:8080/",
          "height": 473
        },
        "id": "qEvfySMMutBR",
        "outputId": "a4169056-1dc5-4518-c0c8-ada45e005276"
      },
      "execution_count": 47,
      "outputs": [
        {
          "output_type": "execute_result",
          "data": {
            "text/plain": [
              "      ID  Код_группы  Год_Поступления  Пол Основания   Изучаемый_Язык  \\\n",
              "0  72716       16019             2015  Жен        ОО  Английский язык   \n",
              "1  63306       14895             2010  Муж        ЦН              NaN   \n",
              "2  82469       20103             2017  Жен        ДН  Английский язык   \n",
              "3  81661       19838             2017  Жен        БН  Английский язык   \n",
              "4  81509       19803             2017  Жен        БН  Английский язык   \n",
              "\n",
              "             Дата_Рождения                                    Уч_Заведение  \\\n",
              "0  1998-02-08 00:00:00.000                                  МБОУ \"СОШ №59\"   \n",
              "1  1992-04-18 00:00:00.000                                             NaN   \n",
              "2  1999-03-21 00:00:00.000                           МБОУ Алтайская СОШ №5   \n",
              "3  1994-12-08 00:00:00.000  ФГБОУ ВО Алтайский государственный университет   \n",
              "4  1995-06-28 00:00:00.000  ФГБОУ ВО Алтайский государственный университет   \n",
              "\n",
              "                             Где_Находится_УЗ  Год_Окончания_УЗ  ...  \\\n",
              "0                   Алтайский край, Барнаул г            2014.0  ...   \n",
              "1                                         NaN               NaN  ...   \n",
              "2  Алтайский край, Алтайский р-н, Алтайское с            2017.0  ...   \n",
              "3                  Алтайский край, г. Барнаул            2017.0  ...   \n",
              "4                  Алтайский край, г. Барнаул            2017.0  ...   \n",
              "\n",
              "   Общежитие Наличие_Матери Наличие_Отца Страна_Родители  Опекунство  Село  \\\n",
              "0        0.0              0          0.0          Россия         0.0   0.0   \n",
              "1        0.0              1          1.0          Россия         0.0   0.0   \n",
              "2        0.0              1          1.0          Россия         0.0   0.0   \n",
              "3        0.0              1          1.0          Россия         0.0   0.0   \n",
              "4        0.0              1          1.0          Россия         0.0   0.0   \n",
              "\n",
              "   Иностранец КодФакультета  СрБаллАттестата  Статус  \n",
              "0         0.0          41.0            4.294       3  \n",
              "1         0.0          28.0           67.000       4  \n",
              "2         0.0          41.0            4.133       4  \n",
              "3         0.0          35.0           74.000       4  \n",
              "4         0.0          28.0           53.000       4  \n",
              "\n",
              "[5 rows x 24 columns]"
            ],
            "text/html": [
              "\n",
              "  <div id=\"df-18417cbe-1fde-48d6-a2a0-d71ade62acff\">\n",
              "    <div class=\"colab-df-container\">\n",
              "      <div>\n",
              "<style scoped>\n",
              "    .dataframe tbody tr th:only-of-type {\n",
              "        vertical-align: middle;\n",
              "    }\n",
              "\n",
              "    .dataframe tbody tr th {\n",
              "        vertical-align: top;\n",
              "    }\n",
              "\n",
              "    .dataframe thead th {\n",
              "        text-align: right;\n",
              "    }\n",
              "</style>\n",
              "<table border=\"1\" class=\"dataframe\">\n",
              "  <thead>\n",
              "    <tr style=\"text-align: right;\">\n",
              "      <th></th>\n",
              "      <th>ID</th>\n",
              "      <th>Код_группы</th>\n",
              "      <th>Год_Поступления</th>\n",
              "      <th>Пол</th>\n",
              "      <th>Основания</th>\n",
              "      <th>Изучаемый_Язык</th>\n",
              "      <th>Дата_Рождения</th>\n",
              "      <th>Уч_Заведение</th>\n",
              "      <th>Где_Находится_УЗ</th>\n",
              "      <th>Год_Окончания_УЗ</th>\n",
              "      <th>...</th>\n",
              "      <th>Общежитие</th>\n",
              "      <th>Наличие_Матери</th>\n",
              "      <th>Наличие_Отца</th>\n",
              "      <th>Страна_Родители</th>\n",
              "      <th>Опекунство</th>\n",
              "      <th>Село</th>\n",
              "      <th>Иностранец</th>\n",
              "      <th>КодФакультета</th>\n",
              "      <th>СрБаллАттестата</th>\n",
              "      <th>Статус</th>\n",
              "    </tr>\n",
              "  </thead>\n",
              "  <tbody>\n",
              "    <tr>\n",
              "      <th>0</th>\n",
              "      <td>72716</td>\n",
              "      <td>16019</td>\n",
              "      <td>2015</td>\n",
              "      <td>Жен</td>\n",
              "      <td>ОО</td>\n",
              "      <td>Английский язык</td>\n",
              "      <td>1998-02-08 00:00:00.000</td>\n",
              "      <td>МБОУ \"СОШ №59\"</td>\n",
              "      <td>Алтайский край, Барнаул г</td>\n",
              "      <td>2014.0</td>\n",
              "      <td>...</td>\n",
              "      <td>0.0</td>\n",
              "      <td>0</td>\n",
              "      <td>0.0</td>\n",
              "      <td>Россия</td>\n",
              "      <td>0.0</td>\n",
              "      <td>0.0</td>\n",
              "      <td>0.0</td>\n",
              "      <td>41.0</td>\n",
              "      <td>4.294</td>\n",
              "      <td>3</td>\n",
              "    </tr>\n",
              "    <tr>\n",
              "      <th>1</th>\n",
              "      <td>63306</td>\n",
              "      <td>14895</td>\n",
              "      <td>2010</td>\n",
              "      <td>Муж</td>\n",
              "      <td>ЦН</td>\n",
              "      <td>NaN</td>\n",
              "      <td>1992-04-18 00:00:00.000</td>\n",
              "      <td>NaN</td>\n",
              "      <td>NaN</td>\n",
              "      <td>NaN</td>\n",
              "      <td>...</td>\n",
              "      <td>0.0</td>\n",
              "      <td>1</td>\n",
              "      <td>1.0</td>\n",
              "      <td>Россия</td>\n",
              "      <td>0.0</td>\n",
              "      <td>0.0</td>\n",
              "      <td>0.0</td>\n",
              "      <td>28.0</td>\n",
              "      <td>67.000</td>\n",
              "      <td>4</td>\n",
              "    </tr>\n",
              "    <tr>\n",
              "      <th>2</th>\n",
              "      <td>82469</td>\n",
              "      <td>20103</td>\n",
              "      <td>2017</td>\n",
              "      <td>Жен</td>\n",
              "      <td>ДН</td>\n",
              "      <td>Английский язык</td>\n",
              "      <td>1999-03-21 00:00:00.000</td>\n",
              "      <td>МБОУ Алтайская СОШ №5</td>\n",
              "      <td>Алтайский край, Алтайский р-н, Алтайское с</td>\n",
              "      <td>2017.0</td>\n",
              "      <td>...</td>\n",
              "      <td>0.0</td>\n",
              "      <td>1</td>\n",
              "      <td>1.0</td>\n",
              "      <td>Россия</td>\n",
              "      <td>0.0</td>\n",
              "      <td>0.0</td>\n",
              "      <td>0.0</td>\n",
              "      <td>41.0</td>\n",
              "      <td>4.133</td>\n",
              "      <td>4</td>\n",
              "    </tr>\n",
              "    <tr>\n",
              "      <th>3</th>\n",
              "      <td>81661</td>\n",
              "      <td>19838</td>\n",
              "      <td>2017</td>\n",
              "      <td>Жен</td>\n",
              "      <td>БН</td>\n",
              "      <td>Английский язык</td>\n",
              "      <td>1994-12-08 00:00:00.000</td>\n",
              "      <td>ФГБОУ ВО Алтайский государственный университет</td>\n",
              "      <td>Алтайский край, г. Барнаул</td>\n",
              "      <td>2017.0</td>\n",
              "      <td>...</td>\n",
              "      <td>0.0</td>\n",
              "      <td>1</td>\n",
              "      <td>1.0</td>\n",
              "      <td>Россия</td>\n",
              "      <td>0.0</td>\n",
              "      <td>0.0</td>\n",
              "      <td>0.0</td>\n",
              "      <td>35.0</td>\n",
              "      <td>74.000</td>\n",
              "      <td>4</td>\n",
              "    </tr>\n",
              "    <tr>\n",
              "      <th>4</th>\n",
              "      <td>81509</td>\n",
              "      <td>19803</td>\n",
              "      <td>2017</td>\n",
              "      <td>Жен</td>\n",
              "      <td>БН</td>\n",
              "      <td>Английский язык</td>\n",
              "      <td>1995-06-28 00:00:00.000</td>\n",
              "      <td>ФГБОУ ВО Алтайский государственный университет</td>\n",
              "      <td>Алтайский край, г. Барнаул</td>\n",
              "      <td>2017.0</td>\n",
              "      <td>...</td>\n",
              "      <td>0.0</td>\n",
              "      <td>1</td>\n",
              "      <td>1.0</td>\n",
              "      <td>Россия</td>\n",
              "      <td>0.0</td>\n",
              "      <td>0.0</td>\n",
              "      <td>0.0</td>\n",
              "      <td>28.0</td>\n",
              "      <td>53.000</td>\n",
              "      <td>4</td>\n",
              "    </tr>\n",
              "  </tbody>\n",
              "</table>\n",
              "<p>5 rows × 24 columns</p>\n",
              "</div>\n",
              "      <button class=\"colab-df-convert\" onclick=\"convertToInteractive('df-18417cbe-1fde-48d6-a2a0-d71ade62acff')\"\n",
              "              title=\"Convert this dataframe to an interactive table.\"\n",
              "              style=\"display:none;\">\n",
              "        \n",
              "  <svg xmlns=\"http://www.w3.org/2000/svg\" height=\"24px\"viewBox=\"0 0 24 24\"\n",
              "       width=\"24px\">\n",
              "    <path d=\"M0 0h24v24H0V0z\" fill=\"none\"/>\n",
              "    <path d=\"M18.56 5.44l.94 2.06.94-2.06 2.06-.94-2.06-.94-.94-2.06-.94 2.06-2.06.94zm-11 1L8.5 8.5l.94-2.06 2.06-.94-2.06-.94L8.5 2.5l-.94 2.06-2.06.94zm10 10l.94 2.06.94-2.06 2.06-.94-2.06-.94-.94-2.06-.94 2.06-2.06.94z\"/><path d=\"M17.41 7.96l-1.37-1.37c-.4-.4-.92-.59-1.43-.59-.52 0-1.04.2-1.43.59L10.3 9.45l-7.72 7.72c-.78.78-.78 2.05 0 2.83L4 21.41c.39.39.9.59 1.41.59.51 0 1.02-.2 1.41-.59l7.78-7.78 2.81-2.81c.8-.78.8-2.07 0-2.86zM5.41 20L4 18.59l7.72-7.72 1.47 1.35L5.41 20z\"/>\n",
              "  </svg>\n",
              "      </button>\n",
              "      \n",
              "  <style>\n",
              "    .colab-df-container {\n",
              "      display:flex;\n",
              "      flex-wrap:wrap;\n",
              "      gap: 12px;\n",
              "    }\n",
              "\n",
              "    .colab-df-convert {\n",
              "      background-color: #E8F0FE;\n",
              "      border: none;\n",
              "      border-radius: 50%;\n",
              "      cursor: pointer;\n",
              "      display: none;\n",
              "      fill: #1967D2;\n",
              "      height: 32px;\n",
              "      padding: 0 0 0 0;\n",
              "      width: 32px;\n",
              "    }\n",
              "\n",
              "    .colab-df-convert:hover {\n",
              "      background-color: #E2EBFA;\n",
              "      box-shadow: 0px 1px 2px rgba(60, 64, 67, 0.3), 0px 1px 3px 1px rgba(60, 64, 67, 0.15);\n",
              "      fill: #174EA6;\n",
              "    }\n",
              "\n",
              "    [theme=dark] .colab-df-convert {\n",
              "      background-color: #3B4455;\n",
              "      fill: #D2E3FC;\n",
              "    }\n",
              "\n",
              "    [theme=dark] .colab-df-convert:hover {\n",
              "      background-color: #434B5C;\n",
              "      box-shadow: 0px 1px 3px 1px rgba(0, 0, 0, 0.15);\n",
              "      filter: drop-shadow(0px 1px 2px rgba(0, 0, 0, 0.3));\n",
              "      fill: #FFFFFF;\n",
              "    }\n",
              "  </style>\n",
              "\n",
              "      <script>\n",
              "        const buttonEl =\n",
              "          document.querySelector('#df-18417cbe-1fde-48d6-a2a0-d71ade62acff button.colab-df-convert');\n",
              "        buttonEl.style.display =\n",
              "          google.colab.kernel.accessAllowed ? 'block' : 'none';\n",
              "\n",
              "        async function convertToInteractive(key) {\n",
              "          const element = document.querySelector('#df-18417cbe-1fde-48d6-a2a0-d71ade62acff');\n",
              "          const dataTable =\n",
              "            await google.colab.kernel.invokeFunction('convertToInteractive',\n",
              "                                                     [key], {});\n",
              "          if (!dataTable) return;\n",
              "\n",
              "          const docLinkHtml = 'Like what you see? Visit the ' +\n",
              "            '<a target=\"_blank\" href=https://colab.research.google.com/notebooks/data_table.ipynb>data table notebook</a>'\n",
              "            + ' to learn more about interactive tables.';\n",
              "          element.innerHTML = '';\n",
              "          dataTable['output_type'] = 'display_data';\n",
              "          await google.colab.output.renderOutput(dataTable, element);\n",
              "          const docLink = document.createElement('div');\n",
              "          docLink.innerHTML = docLinkHtml;\n",
              "          element.appendChild(docLink);\n",
              "        }\n",
              "      </script>\n",
              "    </div>\n",
              "  </div>\n",
              "  "
            ]
          },
          "metadata": {},
          "execution_count": 47
        }
      ]
    },
    {
      "cell_type": "code",
      "source": [
        "df.shape"
      ],
      "metadata": {
        "colab": {
          "base_uri": "https://localhost:8080/"
        },
        "id": "DfQqkXCOueeM",
        "outputId": "ff7dbbaf-ce0f-4a94-c9a6-15f3774374e5"
      },
      "execution_count": 48,
      "outputs": [
        {
          "output_type": "execute_result",
          "data": {
            "text/plain": [
              "(13584, 24)"
            ]
          },
          "metadata": {},
          "execution_count": 48
        }
      ]
    },
    {
      "cell_type": "code",
      "source": [
        "df.info()"
      ],
      "metadata": {
        "colab": {
          "base_uri": "https://localhost:8080/"
        },
        "id": "NUHy7c-tuegn",
        "outputId": "43704727-678b-4771-f546-627c4ea0beb7"
      },
      "execution_count": 49,
      "outputs": [
        {
          "output_type": "stream",
          "name": "stdout",
          "text": [
            "<class 'pandas.core.frame.DataFrame'>\n",
            "RangeIndex: 13584 entries, 0 to 13583\n",
            "Data columns (total 24 columns):\n",
            " #   Column            Non-Null Count  Dtype  \n",
            "---  ------            --------------  -----  \n",
            " 0   ID                13584 non-null  int64  \n",
            " 1   Код_группы        13584 non-null  int64  \n",
            " 2   Год_Поступления   13584 non-null  int64  \n",
            " 3   Пол               13577 non-null  object \n",
            " 4   Основания         13584 non-null  object \n",
            " 5   Изучаемый_Язык    12758 non-null  object \n",
            " 6   Дата_Рождения     13584 non-null  object \n",
            " 7   Уч_Заведение      12351 non-null  object \n",
            " 8   Где_Находится_УЗ  12203 non-null  object \n",
            " 9   Год_Окончания_УЗ  12284 non-null  float64\n",
            " 10  Пособие           12576 non-null  float64\n",
            " 11  Страна_ПП         13237 non-null  object \n",
            " 12  Регион_ПП         12966 non-null  object \n",
            " 13  Город_ПП          13141 non-null  object \n",
            " 14  Общежитие         13498 non-null  float64\n",
            " 15  Наличие_Матери    13584 non-null  int64  \n",
            " 16  Наличие_Отца      13584 non-null  float64\n",
            " 17  Страна_Родители   13126 non-null  object \n",
            " 18  Опекунство        13584 non-null  float64\n",
            " 19  Село              13498 non-null  float64\n",
            " 20  Иностранец        13274 non-null  float64\n",
            " 21  КодФакультета     13584 non-null  float64\n",
            " 22  СрБаллАттестата   13584 non-null  float64\n",
            " 23  Статус            13584 non-null  int64  \n",
            "dtypes: float64(9), int64(5), object(10)\n",
            "memory usage: 2.5+ MB\n"
          ]
        }
      ]
    },
    {
      "cell_type": "code",
      "source": [
        "df.duplicated().sum()"
      ],
      "metadata": {
        "colab": {
          "base_uri": "https://localhost:8080/"
        },
        "id": "neWyCNk5_HCl",
        "outputId": "49ec12f7-fcc7-40b3-d719-93b30a1d3b15"
      },
      "execution_count": 50,
      "outputs": [
        {
          "output_type": "execute_result",
          "data": {
            "text/plain": [
              "0"
            ]
          },
          "metadata": {},
          "execution_count": 50
        }
      ]
    },
    {
      "cell_type": "markdown",
      "source": [
        "Заменим все пропуски в данных"
      ],
      "metadata": {
        "id": "IjTGeJP3u1-4"
      }
    },
    {
      "cell_type": "code",
      "source": [
        "df = df.fillna(0)"
      ],
      "metadata": {
        "id": "sWf6o_06uei9"
      },
      "execution_count": 51,
      "outputs": []
    },
    {
      "cell_type": "markdown",
      "source": [
        "Пострим распределения данных"
      ],
      "metadata": {
        "id": "4cxnT51gu5fJ"
      }
    },
    {
      "cell_type": "code",
      "source": [
        "plt.figure(figsize=(6,6))\n",
        "sns.countplot(x = \"Статус\" , data  = df, palette = \"Set3\").set_title('Распределение предсказываемой величены')"
      ],
      "metadata": {
        "colab": {
          "base_uri": "https://localhost:8080/",
          "height": 422
        },
        "id": "205eCTRPu3Au",
        "outputId": "10b6d178-cdf1-4cbf-ba3f-b4c0906cbb29"
      },
      "execution_count": 52,
      "outputs": [
        {
          "output_type": "execute_result",
          "data": {
            "text/plain": [
              "Text(0.5, 1.0, 'Распределение предсказываемой величены')"
            ]
          },
          "metadata": {},
          "execution_count": 52
        },
        {
          "output_type": "display_data",
          "data": {
            "text/plain": [
              "<Figure size 432x432 with 1 Axes>"
            ],
            "image/png": "[encoded data removed]"
          },
          "metadata": {
            "needs_background": "light"
          }
        }
      ]
    },
    {
      "cell_type": "code",
      "source": [
        "df[\"Год_Поступления\"].hist(bins = 11, range = [2010, 2021], color='#C1BED6').set_title('Распределение года поступления')"
      ],
      "metadata": {
        "colab": {
          "base_uri": "https://localhost:8080/",
          "height": 897
        },
        "id": "0hNUU0Dvu3DC",
        "outputId": "61cb850a-95f3-4166-a670-635ae938d85e"
      },
      "execution_count": 53,
      "outputs": [
        {
          "output_type": "execute_result",
          "data": {
            "text/plain": [
              "Text(0.5, 1.0, 'Распределение года поступления')"
            ]
          },
          "metadata": {},
          "execution_count": 53
        },
        {
          "output_type": "display_data",
          "data": {
            "text/plain": [
              "<Figure size 1080x1080 with 1 Axes>"
            ],
            "image/png": "[encoded data removed]"
          },
          "metadata": {
            "needs_background": "light"
          }
        }
      ]
    },
    {
      "cell_type": "markdown",
      "source": [
        "Взглянем на несколько величин сразу"
      ],
      "metadata": {
        "id": "Q0CkiEzGwusL"
      }
    },
    {
      "cell_type": "code",
      "source": [
        "_ = df[df.columns].hist(figsize=(20,12), color='#C1BED6')"
      ],
      "metadata": {
        "colab": {
          "base_uri": "https://localhost:8080/",
          "height": 716
        },
        "id": "NM_Cufl3u3H0",
        "outputId": "9e932f27-ca85-4cc8-93d3-02b7e3d60379"
      },
      "execution_count": 54,
      "outputs": [
        {
          "output_type": "display_data",
          "data": {
            "text/plain": [
              "<Figure size 1440x864 with 16 Axes>"
            ],
            "image/png": "[encoded data removed]"
          },
          "metadata": {
            "needs_background": "light"
          }
        }
      ]
    },
    {
      "cell_type": "markdown",
      "source": [
        "Обратим внимание на часть столбцов с постоянными значениями"
      ],
      "metadata": {
        "id": "zr-31zZQxUwx"
      }
    },
    {
      "cell_type": "code",
      "source": [
        "df[\"Пособие\"].value_counts()"
      ],
      "metadata": {
        "colab": {
          "base_uri": "https://localhost:8080/"
        },
        "id": "qw4IcQ2fu3KL",
        "outputId": "9830fafb-ed08-4704-f52d-1c7526b7b16a"
      },
      "execution_count": 55,
      "outputs": [
        {
          "output_type": "execute_result",
          "data": {
            "text/plain": [
              "0.0    13584\n",
              "Name: Пособие, dtype: int64"
            ]
          },
          "metadata": {},
          "execution_count": 55
        }
      ]
    },
    {
      "cell_type": "code",
      "source": [
        "#df[\"Пособие\"].value_counts()"
      ],
      "metadata": {
        "id": "rsRKyl_WWjcN"
      },
      "execution_count": 56,
      "outputs": []
    },
    {
      "cell_type": "code",
      "source": [
        "df[\"Опекунство\"].value_counts()"
      ],
      "metadata": {
        "colab": {
          "base_uri": "https://localhost:8080/"
        },
        "id": "1A6yjsJXDkIt",
        "outputId": "d658ab34-791b-47ff-a408-6b11ab4c6c27"
      },
      "execution_count": 57,
      "outputs": [
        {
          "output_type": "execute_result",
          "data": {
            "text/plain": [
              "0.0    13578\n",
              "1.0        6\n",
              "Name: Опекунство, dtype: int64"
            ]
          },
          "metadata": {},
          "execution_count": 57
        }
      ]
    },
    {
      "cell_type": "markdown",
      "source": [
        "Зададим примерный возраст поступившего"
      ],
      "metadata": {
        "id": "iBOTobSf78xu"
      }
    },
    {
      "cell_type": "code",
      "source": [
        "df['Дата_Рождения'] = pd.to_datetime(df['Дата_Рождения'])\n",
        "df['Год_Рождения'] = df['Дата_Рождения'].dt.year\n",
        "df['возраст_пост'] = df['Год_Поступления'] - df['Год_Рождения']"
      ],
      "metadata": {
        "id": "GKTMPzaCuB-U"
      },
      "execution_count": 58,
      "outputs": []
    },
    {
      "cell_type": "code",
      "source": [
        "df.columns.values"
      ],
      "metadata": {
        "colab": {
          "base_uri": "https://localhost:8080/"
        },
        "id": "pWrDLNAKD_ZB",
        "outputId": "18b1d161-7c8f-4141-bac0-c1e0cf1eaa30"
      },
      "execution_count": 59,
      "outputs": [
        {
          "output_type": "execute_result",
          "data": {
            "text/plain": [
              "array(['ID', 'Код_группы', 'Год_Поступления', 'Пол', 'Основания',\n",
              "       'Изучаемый_Язык', 'Дата_Рождения', 'Уч_Заведение',\n",
              "       'Где_Находится_УЗ', 'Год_Окончания_УЗ', 'Пособие', 'Страна_ПП',\n",
              "       'Регион_ПП', 'Город_ПП', 'Общежитие', 'Наличие_Матери',\n",
              "       'Наличие_Отца', 'Страна_Родители', 'Опекунство', 'Село',\n",
              "       'Иностранец', 'КодФакультета', 'СрБаллАттестата', 'Статус',\n",
              "       'Год_Рождения', 'возраст_пост'], dtype=object)"
            ]
          },
          "metadata": {},
          "execution_count": 59
        }
      ]
    },
    {
      "cell_type": "markdown",
      "source": [
        "Построим тепловую карту корреляций, удалив неинформативные столбцы"
      ],
      "metadata": {
        "id": "xLYIP-Rp9_kd"
      }
    },
    {
      "cell_type": "code",
      "source": [
        "plt.rcParams['figure.figsize']=(15,15)\n",
        "\n",
        "df_corr = list(set(df.columns.values) - set(['Опекунство','Пособие']))\n",
        "g = sns.heatmap(df[df_corr].corr(), square = True, annot=True)"
      ],
      "metadata": {
        "colab": {
          "base_uri": "https://localhost:8080/",
          "height": 883
        },
        "id": "VnDPAAahyOnw",
        "outputId": "3495e50e-7603-4f53-90d3-e77eaa96c218"
      },
      "execution_count": 60,
      "outputs": [
        {
          "output_type": "display_data",
          "data": {
            "text/plain": [
              "<Figure size 1080x1080 with 2 Axes>"
            ],
            "image/png": "[encoded data removed]"
          },
          "metadata": {
            "needs_background": "light"
          }
        }
      ]
    },
    {
      "cell_type": "markdown",
      "source": [
        "## Работа над текстовыми переменными"
      ],
      "metadata": {
        "id": "VLOa56f5zfUg"
      }
    },
    {
      "cell_type": "code",
      "source": [
        "df.dtypes[df.dtypes == \"object\"].index.values"
      ],
      "metadata": {
        "colab": {
          "base_uri": "https://localhost:8080/"
        },
        "id": "T5wEuIQ50ibJ",
        "outputId": "92aec166-a725-4020-ab37-5349f09378d2"
      },
      "execution_count": 61,
      "outputs": [
        {
          "output_type": "execute_result",
          "data": {
            "text/plain": [
              "array(['Пол', 'Основания', 'Изучаемый_Язык', 'Уч_Заведение',\n",
              "       'Где_Находится_УЗ', 'Страна_ПП', 'Регион_ПП', 'Город_ПП',\n",
              "       'Страна_Родители'], dtype=object)"
            ]
          },
          "metadata": {},
          "execution_count": 61
        }
      ]
    },
    {
      "cell_type": "markdown",
      "source": [
        "Найдем русских и иностранцев по ПП"
      ],
      "metadata": {
        "id": "3YzwUeQk8URU"
      }
    },
    {
      "cell_type": "code",
      "source": [
        "df['Страна_ПП'] = df['Страна_ПП'].apply(lambda x: 'Россия' if x=='Россия' else 'зарубеж')"
      ],
      "metadata": {
        "id": "ba2U2VNfptjZ"
      },
      "execution_count": 62,
      "outputs": []
    },
    {
      "cell_type": "markdown",
      "source": [
        "Избавимся от некорректного пола"
      ],
      "metadata": {
        "id": "57JbN3el8Y57"
      }
    },
    {
      "cell_type": "code",
      "source": [
        "df[\"Пол\"].value_counts()"
      ],
      "metadata": {
        "colab": {
          "base_uri": "https://localhost:8080/"
        },
        "id": "uKjyj2YRjSI2",
        "outputId": "783dffb6-1068-4a4d-dda5-6eb83710d2ae"
      },
      "execution_count": 63,
      "outputs": [
        {
          "output_type": "execute_result",
          "data": {
            "text/plain": [
              "Жен    8133\n",
              "Муж    5443\n",
              "0         7\n",
              "муж       1\n",
              "Name: Пол, dtype: int64"
            ]
          },
          "metadata": {},
          "execution_count": 63
        }
      ]
    },
    {
      "cell_type": "code",
      "source": [
        "#df = df.query('Пол in (\"Муж\",\"Жен\")').reset_index(drop=True)\n",
        "df[\"Пол\"] = df[\"Пол\"].replace( {'муж':'Муж',\n",
        "                                 0 :'Муж',\n",
        "                                'жен' : 'Жен'}\n",
        "                             )    "
      ],
      "metadata": {
        "id": "s45R_gBS0tmG"
      },
      "execution_count": 64,
      "outputs": []
    },
    {
      "cell_type": "markdown",
      "source": [
        "Почистим категории в Языках"
      ],
      "metadata": {
        "id": "ItxdFPJe8h76"
      }
    },
    {
      "cell_type": "code",
      "source": [
        "df[\"Изучаемый_Язык\"].value_counts()"
      ],
      "metadata": {
        "colab": {
          "base_uri": "https://localhost:8080/"
        },
        "id": "CuhUdhDB1drE",
        "outputId": "2288a5c0-afc1-440a-a532-6f74b5f2ae3c"
      },
      "execution_count": 65,
      "outputs": [
        {
          "output_type": "execute_result",
          "data": {
            "text/plain": [
              "Английский язык                  10450\n",
              "Немецкий язык                     2219\n",
              "0                                  826\n",
              "Французский язык                    54\n",
              "Русский язык                        11\n",
              "Иностранный язык (Английский)       10\n",
              "Англиийский                         10\n",
              "Иностранный язык (Немецкий)          4\n",
              "Name: Изучаемый_Язык, dtype: int64"
            ]
          },
          "metadata": {},
          "execution_count": 65
        }
      ]
    },
    {
      "cell_type": "code",
      "source": [
        "df[\"Изучаемый_Язык\"] = df[\"Изучаемый_Язык\"].replace( {'Иностранный язык (Английский)':'Английский язык',\n",
        "                               'Англиийский' :'Английский язык',\n",
        "                               'Иностранный язык (Немецкий)' : 'Немецкий язык'}\n",
        "                             )                               "
      ],
      "metadata": {
        "id": "3_aHQe6L22Hq"
      },
      "execution_count": 66,
      "outputs": []
    },
    {
      "cell_type": "code",
      "source": [
        "df[\"Основания\"].value_counts()"
      ],
      "metadata": {
        "colab": {
          "base_uri": "https://localhost:8080/"
        },
        "id": "dVqdDjXk3ajo",
        "outputId": "8df06aa4-d0e7-43ea-8450-35b8544cbfbe"
      },
      "execution_count": 67,
      "outputs": [
        {
          "output_type": "execute_result",
          "data": {
            "text/plain": [
              "ОО    5084\n",
              "СН    4558\n",
              "БН    1882\n",
              "ДН    1853\n",
              "ЦН     207\n",
              "Name: Основания, dtype: int64"
            ]
          },
          "metadata": {},
          "execution_count": 67
        }
      ]
    },
    {
      "cell_type": "markdown",
      "source": [
        "Преобразуем категориальные поля в множество бинарных полей (One-hot Encoding)"
      ],
      "metadata": {
        "id": "cxmACm2d_F98"
      }
    },
    {
      "cell_type": "code",
      "source": [
        "df = pd.get_dummies(df, columns=[\"Пол\", \"Изучаемый_Язык\",\"Основания\",\"Страна_ПП\"], prefix=[\"Пол\", \"Язык\",\"ОСН\",\"страна\"])"
      ],
      "metadata": {
        "id": "XzoTo78V6kWK"
      },
      "execution_count": 68,
      "outputs": []
    },
    {
      "cell_type": "code",
      "source": [
        "df.head()"
      ],
      "metadata": {
        "colab": {
          "base_uri": "https://localhost:8080/",
          "height": 470
        },
        "id": "0g8E9T8_6zVI",
        "outputId": "e4ed0e25-c2a6-4c78-c124-db19382b8d29"
      },
      "execution_count": 69,
      "outputs": [
        {
          "output_type": "execute_result",
          "data": {
            "text/plain": [
              "      ID  Код_группы  Год_Поступления Дата_Рождения  \\\n",
              "0  72716       16019             2015    1998-02-08   \n",
              "1  63306       14895             2010    1992-04-18   \n",
              "2  82469       20103             2017    1999-03-21   \n",
              "3  81661       19838             2017    1994-12-08   \n",
              "4  81509       19803             2017    1995-06-28   \n",
              "\n",
              "                                     Уч_Заведение  \\\n",
              "0                                  МБОУ \"СОШ №59\"   \n",
              "1                                               0   \n",
              "2                           МБОУ Алтайская СОШ №5   \n",
              "3  ФГБОУ ВО Алтайский государственный университет   \n",
              "4  ФГБОУ ВО Алтайский государственный университет   \n",
              "\n",
              "                             Где_Находится_УЗ  Год_Окончания_УЗ  Пособие  \\\n",
              "0                   Алтайский край, Барнаул г            2014.0      0.0   \n",
              "1                                           0               0.0      0.0   \n",
              "2  Алтайский край, Алтайский р-н, Алтайское с            2017.0      0.0   \n",
              "3                  Алтайский край, г. Барнаул            2017.0      0.0   \n",
              "4                  Алтайский край, г. Барнаул            2017.0      0.0   \n",
              "\n",
              "        Регион_ПП     Город_ПП  ...  Язык_Немецкий язык  Язык_Русский язык  \\\n",
              "0  Алтайский край    Барнаул г  ...                   0                  0   \n",
              "1  Алтайский край    Барнаул г  ...                   0                  0   \n",
              "2  Алтайский край  Алтайское с  ...                   0                  0   \n",
              "3  Алтайский край   г. Барнаул  ...                   0                  0   \n",
              "4  Алтайский край   г. Барнаул  ...                   0                  0   \n",
              "\n",
              "   Язык_Французский язык ОСН_БН  ОСН_ДН  ОСН_ОО  ОСН_СН  ОСН_ЦН  \\\n",
              "0                      0      0       0       1       0       0   \n",
              "1                      0      0       0       0       0       1   \n",
              "2                      0      0       1       0       0       0   \n",
              "3                      0      1       0       0       0       0   \n",
              "4                      0      1       0       0       0       0   \n",
              "\n",
              "   страна_Россия  страна_зарубеж  \n",
              "0              1               0  \n",
              "1              1               0  \n",
              "2              1               0  \n",
              "3              1               0  \n",
              "4              1               0  \n",
              "\n",
              "[5 rows x 36 columns]"
            ],
            "text/html": [
              "\n",
              "  <div id=\"df-517255b6-ff30-4860-ab9e-b11e0abe4124\">\n",
              "    <div class=\"colab-df-container\">\n",
              "      <div>\n",
              "<style scoped>\n",
              "    .dataframe tbody tr th:only-of-type {\n",
              "        vertical-align: middle;\n",
              "    }\n",
              "\n",
              "    .dataframe tbody tr th {\n",
              "        vertical-align: top;\n",
              "    }\n",
              "\n",
              "    .dataframe thead th {\n",
              "        text-align: right;\n",
              "    }\n",
              "</style>\n",
              "<table border=\"1\" class=\"dataframe\">\n",
              "  <thead>\n",
              "    <tr style=\"text-align: right;\">\n",
              "      <th></th>\n",
              "      <th>ID</th>\n",
              "      <th>Код_группы</th>\n",
              "      <th>Год_Поступления</th>\n",
              "      <th>Дата_Рождения</th>\n",
              "      <th>Уч_Заведение</th>\n",
              "      <th>Где_Находится_УЗ</th>\n",
              "      <th>Год_Окончания_УЗ</th>\n",
              "      <th>Пособие</th>\n",
              "      <th>Регион_ПП</th>\n",
              "      <th>Город_ПП</th>\n",
              "      <th>...</th>\n",
              "      <th>Язык_Немецкий язык</th>\n",
              "      <th>Язык_Русский язык</th>\n",
              "      <th>Язык_Французский язык</th>\n",
              "      <th>ОСН_БН</th>\n",
              "      <th>ОСН_ДН</th>\n",
              "      <th>ОСН_ОО</th>\n",
              "      <th>ОСН_СН</th>\n",
              "      <th>ОСН_ЦН</th>\n",
              "      <th>страна_Россия</th>\n",
              "      <th>страна_зарубеж</th>\n",
              "    </tr>\n",
              "  </thead>\n",
              "  <tbody>\n",
              "    <tr>\n",
              "      <th>0</th>\n",
              "      <td>72716</td>\n",
              "      <td>16019</td>\n",
              "      <td>2015</td>\n",
              "      <td>1998-02-08</td>\n",
              "      <td>МБОУ \"СОШ №59\"</td>\n",
              "      <td>Алтайский край, Барнаул г</td>\n",
              "      <td>2014.0</td>\n",
              "      <td>0.0</td>\n",
              "      <td>Алтайский край</td>\n",
              "      <td>Барнаул г</td>\n",
              "      <td>...</td>\n",
              "      <td>0</td>\n",
              "      <td>0</td>\n",
              "      <td>0</td>\n",
              "      <td>0</td>\n",
              "      <td>0</td>\n",
              "      <td>1</td>\n",
              "      <td>0</td>\n",
              "      <td>0</td>\n",
              "      <td>1</td>\n",
              "      <td>0</td>\n",
              "    </tr>\n",
              "    <tr>\n",
              "      <th>1</th>\n",
              "      <td>63306</td>\n",
              "      <td>14895</td>\n",
              "      <td>2010</td>\n",
              "      <td>1992-04-18</td>\n",
              "      <td>0</td>\n",
              "      <td>0</td>\n",
              "      <td>0.0</td>\n",
              "      <td>0.0</td>\n",
              "      <td>Алтайский край</td>\n",
              "      <td>Барнаул г</td>\n",
              "      <td>...</td>\n",
              "      <td>0</td>\n",
              "      <td>0</td>\n",
              "      <td>0</td>\n",
              "      <td>0</td>\n",
              "      <td>0</td>\n",
              "      <td>0</td>\n",
              "      <td>0</td>\n",
              "      <td>1</td>\n",
              "      <td>1</td>\n",
              "      <td>0</td>\n",
              "    </tr>\n",
              "    <tr>\n",
              "      <th>2</th>\n",
              "      <td>82469</td>\n",
              "      <td>20103</td>\n",
              "      <td>2017</td>\n",
              "      <td>1999-03-21</td>\n",
              "      <td>МБОУ Алтайская СОШ №5</td>\n",
              "      <td>Алтайский край, Алтайский р-н, Алтайское с</td>\n",
              "      <td>2017.0</td>\n",
              "      <td>0.0</td>\n",
              "      <td>Алтайский край</td>\n",
              "      <td>Алтайское с</td>\n",
              "      <td>...</td>\n",
              "      <td>0</td>\n",
              "      <td>0</td>\n",
              "      <td>0</td>\n",
              "      <td>0</td>\n",
              "      <td>1</td>\n",
              "      <td>0</td>\n",
              "      <td>0</td>\n",
              "      <td>0</td>\n",
              "      <td>1</td>\n",
              "      <td>0</td>\n",
              "    </tr>\n",
              "    <tr>\n",
              "      <th>3</th>\n",
              "      <td>81661</td>\n",
              "      <td>19838</td>\n",
              "      <td>2017</td>\n",
              "      <td>1994-12-08</td>\n",
              "      <td>ФГБОУ ВО Алтайский государственный университет</td>\n",
              "      <td>Алтайский край, г. Барнаул</td>\n",
              "      <td>2017.0</td>\n",
              "      <td>0.0</td>\n",
              "      <td>Алтайский край</td>\n",
              "      <td>г. Барнаул</td>\n",
              "      <td>...</td>\n",
              "      <td>0</td>\n",
              "      <td>0</td>\n",
              "      <td>0</td>\n",
              "      <td>1</td>\n",
              "      <td>0</td>\n",
              "      <td>0</td>\n",
              "      <td>0</td>\n",
              "      <td>0</td>\n",
              "      <td>1</td>\n",
              "      <td>0</td>\n",
              "    </tr>\n",
              "    <tr>\n",
              "      <th>4</th>\n",
              "      <td>81509</td>\n",
              "      <td>19803</td>\n",
              "      <td>2017</td>\n",
              "      <td>1995-06-28</td>\n",
              "      <td>ФГБОУ ВО Алтайский государственный университет</td>\n",
              "      <td>Алтайский край, г. Барнаул</td>\n",
              "      <td>2017.0</td>\n",
              "      <td>0.0</td>\n",
              "      <td>Алтайский край</td>\n",
              "      <td>г. Барнаул</td>\n",
              "      <td>...</td>\n",
              "      <td>0</td>\n",
              "      <td>0</td>\n",
              "      <td>0</td>\n",
              "      <td>1</td>\n",
              "      <td>0</td>\n",
              "      <td>0</td>\n",
              "      <td>0</td>\n",
              "      <td>0</td>\n",
              "      <td>1</td>\n",
              "      <td>0</td>\n",
              "    </tr>\n",
              "  </tbody>\n",
              "</table>\n",
              "<p>5 rows × 36 columns</p>\n",
              "</div>\n",
              "      <button class=\"colab-df-convert\" onclick=\"convertToInteractive('df-517255b6-ff30-4860-ab9e-b11e0abe4124')\"\n",
              "              title=\"Convert this dataframe to an interactive table.\"\n",
              "              style=\"display:none;\">\n",
              "        \n",
              "  <svg xmlns=\"http://www.w3.org/2000/svg\" height=\"24px\"viewBox=\"0 0 24 24\"\n",
              "       width=\"24px\">\n",
              "    <path d=\"M0 0h24v24H0V0z\" fill=\"none\"/>\n",
              "    <path d=\"M18.56 5.44l.94 2.06.94-2.06 2.06-.94-2.06-.94-.94-2.06-.94 2.06-2.06.94zm-11 1L8.5 8.5l.94-2.06 2.06-.94-2.06-.94L8.5 2.5l-.94 2.06-2.06.94zm10 10l.94 2.06.94-2.06 2.06-.94-2.06-.94-.94-2.06-.94 2.06-2.06.94z\"/><path d=\"M17.41 7.96l-1.37-1.37c-.4-.4-.92-.59-1.43-.59-.52 0-1.04.2-1.43.59L10.3 9.45l-7.72 7.72c-.78.78-.78 2.05 0 2.83L4 21.41c.39.39.9.59 1.41.59.51 0 1.02-.2 1.41-.59l7.78-7.78 2.81-2.81c.8-.78.8-2.07 0-2.86zM5.41 20L4 18.59l7.72-7.72 1.47 1.35L5.41 20z\"/>\n",
              "  </svg>\n",
              "      </button>\n",
              "      \n",
              "  <style>\n",
              "    .colab-df-container {\n",
              "      display:flex;\n",
              "      flex-wrap:wrap;\n",
              "      gap: 12px;\n",
              "    }\n",
              "\n",
              "    .colab-df-convert {\n",
              "      background-color: #E8F0FE;\n",
              "      border: none;\n",
              "      border-radius: 50%;\n",
              "      cursor: pointer;\n",
              "      display: none;\n",
              "      fill: #1967D2;\n",
              "      height: 32px;\n",
              "      padding: 0 0 0 0;\n",
              "      width: 32px;\n",
              "    }\n",
              "\n",
              "    .colab-df-convert:hover {\n",
              "      background-color: #E2EBFA;\n",
              "      box-shadow: 0px 1px 2px rgba(60, 64, 67, 0.3), 0px 1px 3px 1px rgba(60, 64, 67, 0.15);\n",
              "      fill: #174EA6;\n",
              "    }\n",
              "\n",
              "    [theme=dark] .colab-df-convert {\n",
              "      background-color: #3B4455;\n",
              "      fill: #D2E3FC;\n",
              "    }\n",
              "\n",
              "    [theme=dark] .colab-df-convert:hover {\n",
              "      background-color: #434B5C;\n",
              "      box-shadow: 0px 1px 3px 1px rgba(0, 0, 0, 0.15);\n",
              "      filter: drop-shadow(0px 1px 2px rgba(0, 0, 0, 0.3));\n",
              "      fill: #FFFFFF;\n",
              "    }\n",
              "  </style>\n",
              "\n",
              "      <script>\n",
              "        const buttonEl =\n",
              "          document.querySelector('#df-517255b6-ff30-4860-ab9e-b11e0abe4124 button.colab-df-convert');\n",
              "        buttonEl.style.display =\n",
              "          google.colab.kernel.accessAllowed ? 'block' : 'none';\n",
              "\n",
              "        async function convertToInteractive(key) {\n",
              "          const element = document.querySelector('#df-517255b6-ff30-4860-ab9e-b11e0abe4124');\n",
              "          const dataTable =\n",
              "            await google.colab.kernel.invokeFunction('convertToInteractive',\n",
              "                                                     [key], {});\n",
              "          if (!dataTable) return;\n",
              "\n",
              "          const docLinkHtml = 'Like what you see? Visit the ' +\n",
              "            '<a target=\"_blank\" href=https://colab.research.google.com/notebooks/data_table.ipynb>data table notebook</a>'\n",
              "            + ' to learn more about interactive tables.';\n",
              "          element.innerHTML = '';\n",
              "          dataTable['output_type'] = 'display_data';\n",
              "          await google.colab.output.renderOutput(dataTable, element);\n",
              "          const docLink = document.createElement('div');\n",
              "          docLink.innerHTML = docLinkHtml;\n",
              "          element.appendChild(docLink);\n",
              "        }\n",
              "      </script>\n",
              "    </div>\n",
              "  </div>\n",
              "  "
            ]
          },
          "metadata": {},
          "execution_count": 69
        }
      ]
    },
    {
      "cell_type": "markdown",
      "source": [
        "Поместим все столбцы object в массив, для их дальнейшего удаления"
      ],
      "metadata": {
        "id": "845Wf3zJ1dhc"
      }
    },
    {
      "cell_type": "code",
      "source": [
        "mass_object = ('Дата_Рождения',\n",
        "       'Уч_Заведение', 'Где_Находится_УЗ',  'Регион_ПП',\n",
        "       'Город_ПП', 'Страна_Родители')\n",
        "mass_object = np.append(mass_object, \"Статус\")"
      ],
      "metadata": {
        "id": "mAhVoVTj1l-D"
      },
      "execution_count": 70,
      "outputs": []
    },
    {
      "cell_type": "code",
      "source": [
        "mass_object"
      ],
      "metadata": {
        "colab": {
          "base_uri": "https://localhost:8080/"
        },
        "id": "o7JDhZNM6Zc5",
        "outputId": "1c09eb3e-7c70-4531-9dfa-77aff66a117e"
      },
      "execution_count": 71,
      "outputs": [
        {
          "output_type": "execute_result",
          "data": {
            "text/plain": [
              "array(['Дата_Рождения', 'Уч_Заведение', 'Где_Находится_УЗ', 'Регион_ПП',\n",
              "       'Город_ПП', 'Страна_Родители', 'Статус'], dtype='<U16')"
            ]
          },
          "metadata": {},
          "execution_count": 71
        }
      ]
    },
    {
      "cell_type": "markdown",
      "source": [
        "## Получение выборки для трейна и теста"
      ],
      "metadata": {
        "id": "yz7fs9SV8v1O"
      }
    },
    {
      "cell_type": "code",
      "source": [
        "X = df.drop(mass_object, axis = 1)\n",
        "y = df[[\"Статус\"]]"
      ],
      "metadata": {
        "id": "czsoZexkyyTw"
      },
      "execution_count": 72,
      "outputs": []
    },
    {
      "cell_type": "code",
      "source": [
        "X.head()"
      ],
      "metadata": {
        "colab": {
          "base_uri": "https://localhost:8080/",
          "height": 279
        },
        "id": "7UH3lnX7ZMzm",
        "outputId": "869aebd0-0fed-422a-8373-340100f0ceb2"
      },
      "execution_count": 73,
      "outputs": [
        {
          "output_type": "execute_result",
          "data": {
            "text/plain": [
              "      ID  Код_группы  Год_Поступления  Год_Окончания_УЗ  Пособие  Общежитие  \\\n",
              "0  72716       16019             2015            2014.0      0.0        0.0   \n",
              "1  63306       14895             2010               0.0      0.0        0.0   \n",
              "2  82469       20103             2017            2017.0      0.0        0.0   \n",
              "3  81661       19838             2017            2017.0      0.0        0.0   \n",
              "4  81509       19803             2017            2017.0      0.0        0.0   \n",
              "\n",
              "   Наличие_Матери  Наличие_Отца  Опекунство  Село  ...  Язык_Немецкий язык  \\\n",
              "0               0           0.0         0.0   0.0  ...                   0   \n",
              "1               1           1.0         0.0   0.0  ...                   0   \n",
              "2               1           1.0         0.0   0.0  ...                   0   \n",
              "3               1           1.0         0.0   0.0  ...                   0   \n",
              "4               1           1.0         0.0   0.0  ...                   0   \n",
              "\n",
              "   Язык_Русский язык  Язык_Французский язык  ОСН_БН  ОСН_ДН  ОСН_ОО  ОСН_СН  \\\n",
              "0                  0                      0       0       0       1       0   \n",
              "1                  0                      0       0       0       0       0   \n",
              "2                  0                      0       0       1       0       0   \n",
              "3                  0                      0       1       0       0       0   \n",
              "4                  0                      0       1       0       0       0   \n",
              "\n",
              "   ОСН_ЦН  страна_Россия  страна_зарубеж  \n",
              "0       0              1               0  \n",
              "1       1              1               0  \n",
              "2       0              1               0  \n",
              "3       0              1               0  \n",
              "4       0              1               0  \n",
              "\n",
              "[5 rows x 29 columns]"
            ],
            "text/html": [
              "\n",
              "  <div id=\"df-c939cc88-c73c-4fe7-a273-cf8a9c31efe8\">\n",
              "    <div class=\"colab-df-container\">\n",
              "      <div>\n",
              "<style scoped>\n",
              "    .dataframe tbody tr th:only-of-type {\n",
              "        vertical-align: middle;\n",
              "    }\n",
              "\n",
              "    .dataframe tbody tr th {\n",
              "        vertical-align: top;\n",
              "    }\n",
              "\n",
              "    .dataframe thead th {\n",
              "        text-align: right;\n",
              "    }\n",
              "</style>\n",
              "<table border=\"1\" class=\"dataframe\">\n",
              "  <thead>\n",
              "    <tr style=\"text-align: right;\">\n",
              "      <th></th>\n",
              "      <th>ID</th>\n",
              "      <th>Код_группы</th>\n",
              "      <th>Год_Поступления</th>\n",
              "      <th>Год_Окончания_УЗ</th>\n",
              "      <th>Пособие</th>\n",
              "      <th>Общежитие</th>\n",
              "      <th>Наличие_Матери</th>\n",
              "      <th>Наличие_Отца</th>\n",
              "      <th>Опекунство</th>\n",
              "      <th>Село</th>\n",
              "      <th>...</th>\n",
              "      <th>Язык_Немецкий язык</th>\n",
              "      <th>Язык_Русский язык</th>\n",
              "      <th>Язык_Французский язык</th>\n",
              "      <th>ОСН_БН</th>\n",
              "      <th>ОСН_ДН</th>\n",
              "      <th>ОСН_ОО</th>\n",
              "      <th>ОСН_СН</th>\n",
              "      <th>ОСН_ЦН</th>\n",
              "      <th>страна_Россия</th>\n",
              "      <th>страна_зарубеж</th>\n",
              "    </tr>\n",
              "  </thead>\n",
              "  <tbody>\n",
              "    <tr>\n",
              "      <th>0</th>\n",
              "      <td>72716</td>\n",
              "      <td>16019</td>\n",
              "      <td>2015</td>\n",
              "      <td>2014.0</td>\n",
              "      <td>0.0</td>\n",
              "      <td>0.0</td>\n",
              "      <td>0</td>\n",
              "      <td>0.0</td>\n",
              "      <td>0.0</td>\n",
              "      <td>0.0</td>\n",
              "      <td>...</td>\n",
              "      <td>0</td>\n",
              "      <td>0</td>\n",
              "      <td>0</td>\n",
              "      <td>0</td>\n",
              "      <td>0</td>\n",
              "      <td>1</td>\n",
              "      <td>0</td>\n",
              "      <td>0</td>\n",
              "      <td>1</td>\n",
              "      <td>0</td>\n",
              "    </tr>\n",
              "    <tr>\n",
              "      <th>1</th>\n",
              "      <td>63306</td>\n",
              "      <td>14895</td>\n",
              "      <td>2010</td>\n",
              "      <td>0.0</td>\n",
              "      <td>0.0</td>\n",
              "      <td>0.0</td>\n",
              "      <td>1</td>\n",
              "      <td>1.0</td>\n",
              "      <td>0.0</td>\n",
              "      <td>0.0</td>\n",
              "      <td>...</td>\n",
              "      <td>0</td>\n",
              "      <td>0</td>\n",
              "      <td>0</td>\n",
              "      <td>0</td>\n",
              "      <td>0</td>\n",
              "      <td>0</td>\n",
              "      <td>0</td>\n",
              "      <td>1</td>\n",
              "      <td>1</td>\n",
              "      <td>0</td>\n",
              "    </tr>\n",
              "    <tr>\n",
              "      <th>2</th>\n",
              "      <td>82469</td>\n",
              "      <td>20103</td>\n",
              "      <td>2017</td>\n",
              "      <td>2017.0</td>\n",
              "      <td>0.0</td>\n",
              "      <td>0.0</td>\n",
              "      <td>1</td>\n",
              "      <td>1.0</td>\n",
              "      <td>0.0</td>\n",
              "      <td>0.0</td>\n",
              "      <td>...</td>\n",
              "      <td>0</td>\n",
              "      <td>0</td>\n",
              "      <td>0</td>\n",
              "      <td>0</td>\n",
              "      <td>1</td>\n",
              "      <td>0</td>\n",
              "      <td>0</td>\n",
              "      <td>0</td>\n",
              "      <td>1</td>\n",
              "      <td>0</td>\n",
              "    </tr>\n",
              "    <tr>\n",
              "      <th>3</th>\n",
              "      <td>81661</td>\n",
              "      <td>19838</td>\n",
              "      <td>2017</td>\n",
              "      <td>2017.0</td>\n",
              "      <td>0.0</td>\n",
              "      <td>0.0</td>\n",
              "      <td>1</td>\n",
              "      <td>1.0</td>\n",
              "      <td>0.0</td>\n",
              "      <td>0.0</td>\n",
              "      <td>...</td>\n",
              "      <td>0</td>\n",
              "      <td>0</td>\n",
              "      <td>0</td>\n",
              "      <td>1</td>\n",
              "      <td>0</td>\n",
              "      <td>0</td>\n",
              "      <td>0</td>\n",
              "      <td>0</td>\n",
              "      <td>1</td>\n",
              "      <td>0</td>\n",
              "    </tr>\n",
              "    <tr>\n",
              "      <th>4</th>\n",
              "      <td>81509</td>\n",
              "      <td>19803</td>\n",
              "      <td>2017</td>\n",
              "      <td>2017.0</td>\n",
              "      <td>0.0</td>\n",
              "      <td>0.0</td>\n",
              "      <td>1</td>\n",
              "      <td>1.0</td>\n",
              "      <td>0.0</td>\n",
              "      <td>0.0</td>\n",
              "      <td>...</td>\n",
              "      <td>0</td>\n",
              "      <td>0</td>\n",
              "      <td>0</td>\n",
              "      <td>1</td>\n",
              "      <td>0</td>\n",
              "      <td>0</td>\n",
              "      <td>0</td>\n",
              "      <td>0</td>\n",
              "      <td>1</td>\n",
              "      <td>0</td>\n",
              "    </tr>\n",
              "  </tbody>\n",
              "</table>\n",
              "<p>5 rows × 29 columns</p>\n",
              "</div>\n",
              "      <button class=\"colab-df-convert\" onclick=\"convertToInteractive('df-c939cc88-c73c-4fe7-a273-cf8a9c31efe8')\"\n",
              "              title=\"Convert this dataframe to an interactive table.\"\n",
              "              style=\"display:none;\">\n",
              "        \n",
              "  <svg xmlns=\"http://www.w3.org/2000/svg\" height=\"24px\"viewBox=\"0 0 24 24\"\n",
              "       width=\"24px\">\n",
              "    <path d=\"M0 0h24v24H0V0z\" fill=\"none\"/>\n",
              "    <path d=\"M18.56 5.44l.94 2.06.94-2.06 2.06-.94-2.06-.94-.94-2.06-.94 2.06-2.06.94zm-11 1L8.5 8.5l.94-2.06 2.06-.94-2.06-.94L8.5 2.5l-.94 2.06-2.06.94zm10 10l.94 2.06.94-2.06 2.06-.94-2.06-.94-.94-2.06-.94 2.06-2.06.94z\"/><path d=\"M17.41 7.96l-1.37-1.37c-.4-.4-.92-.59-1.43-.59-.52 0-1.04.2-1.43.59L10.3 9.45l-7.72 7.72c-.78.78-.78 2.05 0 2.83L4 21.41c.39.39.9.59 1.41.59.51 0 1.02-.2 1.41-.59l7.78-7.78 2.81-2.81c.8-.78.8-2.07 0-2.86zM5.41 20L4 18.59l7.72-7.72 1.47 1.35L5.41 20z\"/>\n",
              "  </svg>\n",
              "      </button>\n",
              "      \n",
              "  <style>\n",
              "    .colab-df-container {\n",
              "      display:flex;\n",
              "      flex-wrap:wrap;\n",
              "      gap: 12px;\n",
              "    }\n",
              "\n",
              "    .colab-df-convert {\n",
              "      background-color: #E8F0FE;\n",
              "      border: none;\n",
              "      border-radius: 50%;\n",
              "      cursor: pointer;\n",
              "      display: none;\n",
              "      fill: #1967D2;\n",
              "      height: 32px;\n",
              "      padding: 0 0 0 0;\n",
              "      width: 32px;\n",
              "    }\n",
              "\n",
              "    .colab-df-convert:hover {\n",
              "      background-color: #E2EBFA;\n",
              "      box-shadow: 0px 1px 2px rgba(60, 64, 67, 0.3), 0px 1px 3px 1px rgba(60, 64, 67, 0.15);\n",
              "      fill: #174EA6;\n",
              "    }\n",
              "\n",
              "    [theme=dark] .colab-df-convert {\n",
              "      background-color: #3B4455;\n",
              "      fill: #D2E3FC;\n",
              "    }\n",
              "\n",
              "    [theme=dark] .colab-df-convert:hover {\n",
              "      background-color: #434B5C;\n",
              "      box-shadow: 0px 1px 3px 1px rgba(0, 0, 0, 0.15);\n",
              "      filter: drop-shadow(0px 1px 2px rgba(0, 0, 0, 0.3));\n",
              "      fill: #FFFFFF;\n",
              "    }\n",
              "  </style>\n",
              "\n",
              "      <script>\n",
              "        const buttonEl =\n",
              "          document.querySelector('#df-c939cc88-c73c-4fe7-a273-cf8a9c31efe8 button.colab-df-convert');\n",
              "        buttonEl.style.display =\n",
              "          google.colab.kernel.accessAllowed ? 'block' : 'none';\n",
              "\n",
              "        async function convertToInteractive(key) {\n",
              "          const element = document.querySelector('#df-c939cc88-c73c-4fe7-a273-cf8a9c31efe8');\n",
              "          const dataTable =\n",
              "            await google.colab.kernel.invokeFunction('convertToInteractive',\n",
              "                                                     [key], {});\n",
              "          if (!dataTable) return;\n",
              "\n",
              "          const docLinkHtml = 'Like what you see? Visit the ' +\n",
              "            '<a target=\"_blank\" href=https://colab.research.google.com/notebooks/data_table.ipynb>data table notebook</a>'\n",
              "            + ' to learn more about interactive tables.';\n",
              "          element.innerHTML = '';\n",
              "          dataTable['output_type'] = 'display_data';\n",
              "          await google.colab.output.renderOutput(dataTable, element);\n",
              "          const docLink = document.createElement('div');\n",
              "          docLink.innerHTML = docLinkHtml;\n",
              "          element.appendChild(docLink);\n",
              "        }\n",
              "      </script>\n",
              "    </div>\n",
              "  </div>\n",
              "  "
            ]
          },
          "metadata": {},
          "execution_count": 73
        }
      ]
    },
    {
      "cell_type": "markdown",
      "source": [
        "Разделим выборку на обучающий и тестовый датасеты"
      ],
      "metadata": {
        "id": "wY6H7zLkA9br"
      }
    },
    {
      "cell_type": "code",
      "source": [
        "X_train, X_test, y_train, y_test = train_test_split(X, y, test_size=0.15, random_state=5)"
      ],
      "metadata": {
        "id": "E-LfoARf2WGZ"
      },
      "execution_count": 74,
      "outputs": []
    },
    {
      "cell_type": "markdown",
      "source": [
        "Обучим модель тремя способами: **RandomForestClassifier, GradientBoostingClassifier и XGBClassifier** и проанализируем предварительный результат"
      ],
      "metadata": {
        "id": "SevBXnjKBDkM"
      }
    },
    {
      "cell_type": "code",
      "source": [
        "models = []\n",
        "models.append(('RandomForest',RandomForestClassifier(n_estimators=100,random_state=5)))\n",
        "models.append(('GradientBoosting',GradientBoostingClassifier(n_estimators=100, max_features=5, max_depth=2, random_state=5)))\n",
        "models.append(('XGBClassifier',XGBClassifier(max_depth = 5,  n_estimators = 100)))\n",
        "\n",
        "for name, model in models:\n",
        "  model.fit(X_train, y_train)\n",
        "  y_pred = model.predict(X_test) \n",
        "  print('================',name,'================')\n",
        "  print(classification_report(y_test, y_pred))\n",
        "  print(model.score(X_test,y_test))"
      ],
      "metadata": {
        "colab": {
          "base_uri": "https://localhost:8080/"
        },
        "id": "63SyR2UeLCOg",
        "outputId": "e79890fe-88c8-405b-e13a-20e31d0a9342"
      },
      "execution_count": 75,
      "outputs": [
        {
          "output_type": "stream",
          "name": "stderr",
          "text": [
            "/usr/local/lib/python3.7/dist-packages/ipykernel_launcher.py:7: DataConversionWarning: A column-vector y was passed when a 1d array was expected. Please change the shape of y to (n_samples,), for example using ravel().\n",
            "  import sys\n"
          ]
        },
        {
          "output_type": "stream",
          "name": "stdout",
          "text": [
            "================ RandomForest ================\n",
            "              precision    recall  f1-score   support\n",
            "\n",
            "          -1       0.54      0.30      0.39        86\n",
            "           3       0.86      0.80      0.83       704\n",
            "           4       0.90      0.96      0.93      1248\n",
            "\n",
            "    accuracy                           0.88      2038\n",
            "   macro avg       0.77      0.69      0.71      2038\n",
            "weighted avg       0.87      0.88      0.87      2038\n",
            "\n",
            "0.8778213935230619\n"
          ]
        },
        {
          "output_type": "stream",
          "name": "stderr",
          "text": [
            "/usr/local/lib/python3.7/dist-packages/sklearn/ensemble/_gb.py:494: DataConversionWarning: A column-vector y was passed when a 1d array was expected. Please change the shape of y to (n_samples, ), for example using ravel().\n",
            "  y = column_or_1d(y, warn=True)\n"
          ]
        },
        {
          "output_type": "stream",
          "name": "stdout",
          "text": [
            "================ GradientBoosting ================\n",
            "              precision    recall  f1-score   support\n",
            "\n",
            "          -1       0.59      0.38      0.46        86\n",
            "           3       0.88      0.67      0.76       704\n",
            "           4       0.84      0.98      0.90      1248\n",
            "\n",
            "    accuracy                           0.84      2038\n",
            "   macro avg       0.77      0.68      0.71      2038\n",
            "weighted avg       0.84      0.84      0.84      2038\n",
            "\n",
            "0.844946025515211\n"
          ]
        },
        {
          "output_type": "stream",
          "name": "stderr",
          "text": [
            "/usr/local/lib/python3.7/dist-packages/sklearn/preprocessing/_label.py:98: DataConversionWarning: A column-vector y was passed when a 1d array was expected. Please change the shape of y to (n_samples, ), for example using ravel().\n",
            "  y = column_or_1d(y, warn=True)\n",
            "/usr/local/lib/python3.7/dist-packages/sklearn/preprocessing/_label.py:133: DataConversionWarning: A column-vector y was passed when a 1d array was expected. Please change the shape of y to (n_samples, ), for example using ravel().\n",
            "  y = column_or_1d(y, warn=True)\n"
          ]
        },
        {
          "output_type": "stream",
          "name": "stdout",
          "text": [
            "================ XGBClassifier ================\n",
            "              precision    recall  f1-score   support\n",
            "\n",
            "          -1       0.62      0.40      0.48        86\n",
            "           3       0.90      0.80      0.85       704\n",
            "           4       0.90      0.98      0.94      1248\n",
            "\n",
            "    accuracy                           0.89      2038\n",
            "   macro avg       0.81      0.73      0.76      2038\n",
            "weighted avg       0.89      0.89      0.89      2038\n",
            "\n",
            "0.8935230618253189\n"
          ]
        }
      ]
    },
    {
      "cell_type": "markdown",
      "source": [
        "Моделирование с помощью XGBoost показало себя лучше всего. Выберем его в качестве основного, оптимизируем гиперпараметры."
      ],
      "metadata": {
        "id": "g_F8ynDtBiwn"
      }
    },
    {
      "cell_type": "code",
      "source": [
        "from xgboost import XGBClassifier\n",
        "xgb_clf = XGBClassifier(max_depth = 5,  n_estimators = 600, eta = 0.01)\n",
        "xgb_clf.fit(X_train, y_train)\n",
        "y_pred = xgb_clf.predict(X_test) \n",
        "score = xgb_clf.score(X_test, y_test)\n",
        "print(classification_report(y_test, y_pred))\n",
        "print(xgb_clf.score(X_test,y_test))"
      ],
      "metadata": {
        "colab": {
          "base_uri": "https://localhost:8080/"
        },
        "id": "DhCnFgaD0B4r",
        "outputId": "6b0582ba-dd0f-4903-b08f-d72e311f8db1"
      },
      "execution_count": 76,
      "outputs": [
        {
          "output_type": "stream",
          "name": "stderr",
          "text": [
            "/usr/local/lib/python3.7/dist-packages/sklearn/preprocessing/_label.py:98: DataConversionWarning: A column-vector y was passed when a 1d array was expected. Please change the shape of y to (n_samples, ), for example using ravel().\n",
            "  y = column_or_1d(y, warn=True)\n",
            "/usr/local/lib/python3.7/dist-packages/sklearn/preprocessing/_label.py:133: DataConversionWarning: A column-vector y was passed when a 1d array was expected. Please change the shape of y to (n_samples, ), for example using ravel().\n",
            "  y = column_or_1d(y, warn=True)\n"
          ]
        },
        {
          "output_type": "stream",
          "name": "stdout",
          "text": [
            "              precision    recall  f1-score   support\n",
            "\n",
            "          -1       0.62      0.47      0.53        86\n",
            "           3       0.90      0.83      0.86       704\n",
            "           4       0.92      0.98      0.95      1248\n",
            "\n",
            "    accuracy                           0.90      2038\n",
            "   macro avg       0.81      0.76      0.78      2038\n",
            "weighted avg       0.90      0.90      0.90      2038\n",
            "\n",
            "0.9028459273797841\n"
          ]
        }
      ]
    },
    {
      "cell_type": "code",
      "source": [
        "y_test.head(3)"
      ],
      "metadata": {
        "colab": {
          "base_uri": "https://localhost:8080/",
          "height": 143
        },
        "id": "1_6H6poY2l-A",
        "outputId": "5ac24f74-73c0-4b8c-e553-48dd129f53e1"
      },
      "execution_count": 77,
      "outputs": [
        {
          "output_type": "execute_result",
          "data": {
            "text/plain": [
              "       Статус\n",
              "11556       4\n",
              "2623        4\n",
              "3392        4"
            ],
            "text/html": [
              "\n",
              "  <div id=\"df-92fcecdb-1ab2-49b3-b25d-aeb9009e6370\">\n",
              "    <div class=\"colab-df-container\">\n",
              "      <div>\n",
              "<style scoped>\n",
              "    .dataframe tbody tr th:only-of-type {\n",
              "        vertical-align: middle;\n",
              "    }\n",
              "\n",
              "    .dataframe tbody tr th {\n",
              "        vertical-align: top;\n",
              "    }\n",
              "\n",
              "    .dataframe thead th {\n",
              "        text-align: right;\n",
              "    }\n",
              "</style>\n",
              "<table border=\"1\" class=\"dataframe\">\n",
              "  <thead>\n",
              "    <tr style=\"text-align: right;\">\n",
              "      <th></th>\n",
              "      <th>Статус</th>\n",
              "    </tr>\n",
              "  </thead>\n",
              "  <tbody>\n",
              "    <tr>\n",
              "      <th>11556</th>\n",
              "      <td>4</td>\n",
              "    </tr>\n",
              "    <tr>\n",
              "      <th>2623</th>\n",
              "      <td>4</td>\n",
              "    </tr>\n",
              "    <tr>\n",
              "      <th>3392</th>\n",
              "      <td>4</td>\n",
              "    </tr>\n",
              "  </tbody>\n",
              "</table>\n",
              "</div>\n",
              "      <button class=\"colab-df-convert\" onclick=\"convertToInteractive('df-92fcecdb-1ab2-49b3-b25d-aeb9009e6370')\"\n",
              "              title=\"Convert this dataframe to an interactive table.\"\n",
              "              style=\"display:none;\">\n",
              "        \n",
              "  <svg xmlns=\"http://www.w3.org/2000/svg\" height=\"24px\"viewBox=\"0 0 24 24\"\n",
              "       width=\"24px\">\n",
              "    <path d=\"M0 0h24v24H0V0z\" fill=\"none\"/>\n",
              "    <path d=\"M18.56 5.44l.94 2.06.94-2.06 2.06-.94-2.06-.94-.94-2.06-.94 2.06-2.06.94zm-11 1L8.5 8.5l.94-2.06 2.06-.94-2.06-.94L8.5 2.5l-.94 2.06-2.06.94zm10 10l.94 2.06.94-2.06 2.06-.94-2.06-.94-.94-2.06-.94 2.06-2.06.94z\"/><path d=\"M17.41 7.96l-1.37-1.37c-.4-.4-.92-.59-1.43-.59-.52 0-1.04.2-1.43.59L10.3 9.45l-7.72 7.72c-.78.78-.78 2.05 0 2.83L4 21.41c.39.39.9.59 1.41.59.51 0 1.02-.2 1.41-.59l7.78-7.78 2.81-2.81c.8-.78.8-2.07 0-2.86zM5.41 20L4 18.59l7.72-7.72 1.47 1.35L5.41 20z\"/>\n",
              "  </svg>\n",
              "      </button>\n",
              "      \n",
              "  <style>\n",
              "    .colab-df-container {\n",
              "      display:flex;\n",
              "      flex-wrap:wrap;\n",
              "      gap: 12px;\n",
              "    }\n",
              "\n",
              "    .colab-df-convert {\n",
              "      background-color: #E8F0FE;\n",
              "      border: none;\n",
              "      border-radius: 50%;\n",
              "      cursor: pointer;\n",
              "      display: none;\n",
              "      fill: #1967D2;\n",
              "      height: 32px;\n",
              "      padding: 0 0 0 0;\n",
              "      width: 32px;\n",
              "    }\n",
              "\n",
              "    .colab-df-convert:hover {\n",
              "      background-color: #E2EBFA;\n",
              "      box-shadow: 0px 1px 2px rgba(60, 64, 67, 0.3), 0px 1px 3px 1px rgba(60, 64, 67, 0.15);\n",
              "      fill: #174EA6;\n",
              "    }\n",
              "\n",
              "    [theme=dark] .colab-df-convert {\n",
              "      background-color: #3B4455;\n",
              "      fill: #D2E3FC;\n",
              "    }\n",
              "\n",
              "    [theme=dark] .colab-df-convert:hover {\n",
              "      background-color: #434B5C;\n",
              "      box-shadow: 0px 1px 3px 1px rgba(0, 0, 0, 0.15);\n",
              "      filter: drop-shadow(0px 1px 2px rgba(0, 0, 0, 0.3));\n",
              "      fill: #FFFFFF;\n",
              "    }\n",
              "  </style>\n",
              "\n",
              "      <script>\n",
              "        const buttonEl =\n",
              "          document.querySelector('#df-92fcecdb-1ab2-49b3-b25d-aeb9009e6370 button.colab-df-convert');\n",
              "        buttonEl.style.display =\n",
              "          google.colab.kernel.accessAllowed ? 'block' : 'none';\n",
              "\n",
              "        async function convertToInteractive(key) {\n",
              "          const element = document.querySelector('#df-92fcecdb-1ab2-49b3-b25d-aeb9009e6370');\n",
              "          const dataTable =\n",
              "            await google.colab.kernel.invokeFunction('convertToInteractive',\n",
              "                                                     [key], {});\n",
              "          if (!dataTable) return;\n",
              "\n",
              "          const docLinkHtml = 'Like what you see? Visit the ' +\n",
              "            '<a target=\"_blank\" href=https://colab.research.google.com/notebooks/data_table.ipynb>data table notebook</a>'\n",
              "            + ' to learn more about interactive tables.';\n",
              "          element.innerHTML = '';\n",
              "          dataTable['output_type'] = 'display_data';\n",
              "          await google.colab.output.renderOutput(dataTable, element);\n",
              "          const docLink = document.createElement('div');\n",
              "          docLink.innerHTML = docLinkHtml;\n",
              "          element.appendChild(docLink);\n",
              "        }\n",
              "      </script>\n",
              "    </div>\n",
              "  </div>\n",
              "  "
            ]
          },
          "metadata": {},
          "execution_count": 77
        }
      ]
    },
    {
      "cell_type": "markdown",
      "source": [
        "# Cоздание файла с ответом на тестовой выборке"
      ],
      "metadata": {
        "id": "yjJp2a4dFmNJ"
      }
    },
    {
      "cell_type": "code",
      "source": [
        "df_test = pd.read_csv(\"test_dataset_test (1).csv\")\n",
        "df_submission = pd.read_csv(\"sample_submission1.csv\")"
      ],
      "metadata": {
        "id": "-1HabuSpBbYS"
      },
      "execution_count": 78,
      "outputs": []
    },
    {
      "cell_type": "code",
      "source": [
        "df_submission.head(3)"
      ],
      "metadata": {
        "colab": {
          "base_uri": "https://localhost:8080/",
          "height": 143
        },
        "id": "IxDUVpUJsV_a",
        "outputId": "ec303695-9671-41e9-dcda-e68691276c52"
      },
      "execution_count": 79,
      "outputs": [
        {
          "output_type": "execute_result",
          "data": {
            "text/plain": [
              "      ID  Статус\n",
              "0  64996     NaN\n",
              "1  71837     NaN\n",
              "2  86587     NaN"
            ],
            "text/html": [
              "\n",
              "  <div id=\"df-dff95f26-2231-4471-83cd-7e09769c9493\">\n",
              "    <div class=\"colab-df-container\">\n",
              "      <div>\n",
              "<style scoped>\n",
              "    .dataframe tbody tr th:only-of-type {\n",
              "        vertical-align: middle;\n",
              "    }\n",
              "\n",
              "    .dataframe tbody tr th {\n",
              "        vertical-align: top;\n",
              "    }\n",
              "\n",
              "    .dataframe thead th {\n",
              "        text-align: right;\n",
              "    }\n",
              "</style>\n",
              "<table border=\"1\" class=\"dataframe\">\n",
              "  <thead>\n",
              "    <tr style=\"text-align: right;\">\n",
              "      <th></th>\n",
              "      <th>ID</th>\n",
              "      <th>Статус</th>\n",
              "    </tr>\n",
              "  </thead>\n",
              "  <tbody>\n",
              "    <tr>\n",
              "      <th>0</th>\n",
              "      <td>64996</td>\n",
              "      <td>NaN</td>\n",
              "    </tr>\n",
              "    <tr>\n",
              "      <th>1</th>\n",
              "      <td>71837</td>\n",
              "      <td>NaN</td>\n",
              "    </tr>\n",
              "    <tr>\n",
              "      <th>2</th>\n",
              "      <td>86587</td>\n",
              "      <td>NaN</td>\n",
              "    </tr>\n",
              "  </tbody>\n",
              "</table>\n",
              "</div>\n",
              "      <button class=\"colab-df-convert\" onclick=\"convertToInteractive('df-dff95f26-2231-4471-83cd-7e09769c9493')\"\n",
              "              title=\"Convert this dataframe to an interactive table.\"\n",
              "              style=\"display:none;\">\n",
              "        \n",
              "  <svg xmlns=\"http://www.w3.org/2000/svg\" height=\"24px\"viewBox=\"0 0 24 24\"\n",
              "       width=\"24px\">\n",
              "    <path d=\"M0 0h24v24H0V0z\" fill=\"none\"/>\n",
              "    <path d=\"M18.56 5.44l.94 2.06.94-2.06 2.06-.94-2.06-.94-.94-2.06-.94 2.06-2.06.94zm-11 1L8.5 8.5l.94-2.06 2.06-.94-2.06-.94L8.5 2.5l-.94 2.06-2.06.94zm10 10l.94 2.06.94-2.06 2.06-.94-2.06-.94-.94-2.06-.94 2.06-2.06.94z\"/><path d=\"M17.41 7.96l-1.37-1.37c-.4-.4-.92-.59-1.43-.59-.52 0-1.04.2-1.43.59L10.3 9.45l-7.72 7.72c-.78.78-.78 2.05 0 2.83L4 21.41c.39.39.9.59 1.41.59.51 0 1.02-.2 1.41-.59l7.78-7.78 2.81-2.81c.8-.78.8-2.07 0-2.86zM5.41 20L4 18.59l7.72-7.72 1.47 1.35L5.41 20z\"/>\n",
              "  </svg>\n",
              "      </button>\n",
              "      \n",
              "  <style>\n",
              "    .colab-df-container {\n",
              "      display:flex;\n",
              "      flex-wrap:wrap;\n",
              "      gap: 12px;\n",
              "    }\n",
              "\n",
              "    .colab-df-convert {\n",
              "      background-color: #E8F0FE;\n",
              "      border: none;\n",
              "      border-radius: 50%;\n",
              "      cursor: pointer;\n",
              "      display: none;\n",
              "      fill: #1967D2;\n",
              "      height: 32px;\n",
              "      padding: 0 0 0 0;\n",
              "      width: 32px;\n",
              "    }\n",
              "\n",
              "    .colab-df-convert:hover {\n",
              "      background-color: #E2EBFA;\n",
              "      box-shadow: 0px 1px 2px rgba(60, 64, 67, 0.3), 0px 1px 3px 1px rgba(60, 64, 67, 0.15);\n",
              "      fill: #174EA6;\n",
              "    }\n",
              "\n",
              "    [theme=dark] .colab-df-convert {\n",
              "      background-color: #3B4455;\n",
              "      fill: #D2E3FC;\n",
              "    }\n",
              "\n",
              "    [theme=dark] .colab-df-convert:hover {\n",
              "      background-color: #434B5C;\n",
              "      box-shadow: 0px 1px 3px 1px rgba(0, 0, 0, 0.15);\n",
              "      filter: drop-shadow(0px 1px 2px rgba(0, 0, 0, 0.3));\n",
              "      fill: #FFFFFF;\n",
              "    }\n",
              "  </style>\n",
              "\n",
              "      <script>\n",
              "        const buttonEl =\n",
              "          document.querySelector('#df-dff95f26-2231-4471-83cd-7e09769c9493 button.colab-df-convert');\n",
              "        buttonEl.style.display =\n",
              "          google.colab.kernel.accessAllowed ? 'block' : 'none';\n",
              "\n",
              "        async function convertToInteractive(key) {\n",
              "          const element = document.querySelector('#df-dff95f26-2231-4471-83cd-7e09769c9493');\n",
              "          const dataTable =\n",
              "            await google.colab.kernel.invokeFunction('convertToInteractive',\n",
              "                                                     [key], {});\n",
              "          if (!dataTable) return;\n",
              "\n",
              "          const docLinkHtml = 'Like what you see? Visit the ' +\n",
              "            '<a target=\"_blank\" href=https://colab.research.google.com/notebooks/data_table.ipynb>data table notebook</a>'\n",
              "            + ' to learn more about interactive tables.';\n",
              "          element.innerHTML = '';\n",
              "          dataTable['output_type'] = 'display_data';\n",
              "          await google.colab.output.renderOutput(dataTable, element);\n",
              "          const docLink = document.createElement('div');\n",
              "          docLink.innerHTML = docLinkHtml;\n",
              "          element.appendChild(docLink);\n",
              "        }\n",
              "      </script>\n",
              "    </div>\n",
              "  </div>\n",
              "  "
            ]
          },
          "metadata": {},
          "execution_count": 79
        }
      ]
    },
    {
      "cell_type": "markdown",
      "source": [
        "Провем те же манипуляции с данными что и на обучении"
      ],
      "metadata": {
        "id": "XIfjIJ7cF_gS"
      }
    },
    {
      "cell_type": "code",
      "source": [
        "df_test['Дата_Рождения'] = pd.to_datetime(df_test['Дата_Рождения'])\n",
        "df_test['Год_Рождения'] = df_test['Дата_Рождения'].dt.year\n",
        "df_test['возраст_пост'] = df_test['Год_Поступления'] - df_test['Год_Рождения']"
      ],
      "metadata": {
        "id": "02sb2JU0yu8s"
      },
      "execution_count": 80,
      "outputs": []
    },
    {
      "cell_type": "code",
      "source": [
        "#mass_object1 = df.dtypes[df.dtypes == \"object\"].index.values\n",
        "mass_object = np.array(['Дата_Рождения',\n",
        "       'Уч_Заведение', 'Где_Находится_УЗ',  'Регион_ПП',\n",
        "       'Город_ПП', 'Страна_Родители'])\n",
        "mass_object\n",
        "df_test = df_test.drop(mass_object, axis = 1)"
      ],
      "metadata": {
        "id": "0I1jddSzBbaK"
      },
      "execution_count": 81,
      "outputs": []
    },
    {
      "cell_type": "code",
      "source": [
        "df_test = df_test.fillna(0)\n",
        "df_test.head()"
      ],
      "metadata": {
        "id": "zJXTk60rGZxn",
        "colab": {
          "base_uri": "https://localhost:8080/",
          "height": 206
        },
        "outputId": "d70d982f-63a1-4b31-c97e-06045ad46e11"
      },
      "execution_count": 82,
      "outputs": [
        {
          "output_type": "execute_result",
          "data": {
            "text/plain": [
              "      ID  Код_группы  Год_Поступления  Пол Основания   Изучаемый_Язык  \\\n",
              "0  64996       20608             2014  Жен        ДН  Английский язык   \n",
              "1  71837       20613             2015  Жен        ДН    Немецкий язык   \n",
              "2  86587       21210             2018  Жен        ОО  Английский язык   \n",
              "3  73673       22254             2015  Жен        ОО  Английский язык   \n",
              "4  54709       15040             2012  Жен        ОО                0   \n",
              "\n",
              "   Год_Окончания_УЗ  Пособие Страна_ПП  Общежитие  Наличие_Матери  \\\n",
              "0            2014.0      0.0    Россия        0.0               0   \n",
              "1            2014.0      0.0    Россия        0.0               0   \n",
              "2            1997.0      0.0    Россия        0.0               1   \n",
              "3            2006.0      0.0    Россия        0.0               0   \n",
              "4               0.0      0.0         0        0.0               1   \n",
              "\n",
              "   Наличие_Отца  Опекунство  Село  Иностранец  КодФакультета  СрБаллАттестата  \\\n",
              "0           0.0         0.0   0.0         0.0           40.0             49.0   \n",
              "1           0.0         0.0   1.0         0.0           26.0             77.0   \n",
              "2           1.0         0.0   0.0         0.0           34.0             74.0   \n",
              "3           0.0         0.0   0.0         0.0           53.0             57.0   \n",
              "4           1.0         0.0   0.0         0.0           36.0             55.0   \n",
              "\n",
              "   Год_Рождения  возраст_пост  \n",
              "0          1995            19  \n",
              "1          1995            20  \n",
              "2          1973            45  \n",
              "3          1983            32  \n",
              "4          1994            18  "
            ],
            "text/html": [
              "\n",
              "  <div id=\"df-59895ebd-c234-40ef-a2f6-3d6286b9d66a\">\n",
              "    <div class=\"colab-df-container\">\n",
              "      <div>\n",
              "<style scoped>\n",
              "    .dataframe tbody tr th:only-of-type {\n",
              "        vertical-align: middle;\n",
              "    }\n",
              "\n",
              "    .dataframe tbody tr th {\n",
              "        vertical-align: top;\n",
              "    }\n",
              "\n",
              "    .dataframe thead th {\n",
              "        text-align: right;\n",
              "    }\n",
              "</style>\n",
              "<table border=\"1\" class=\"dataframe\">\n",
              "  <thead>\n",
              "    <tr style=\"text-align: right;\">\n",
              "      <th></th>\n",
              "      <th>ID</th>\n",
              "      <th>Код_группы</th>\n",
              "      <th>Год_Поступления</th>\n",
              "      <th>Пол</th>\n",
              "      <th>Основания</th>\n",
              "      <th>Изучаемый_Язык</th>\n",
              "      <th>Год_Окончания_УЗ</th>\n",
              "      <th>Пособие</th>\n",
              "      <th>Страна_ПП</th>\n",
              "      <th>Общежитие</th>\n",
              "      <th>Наличие_Матери</th>\n",
              "      <th>Наличие_Отца</th>\n",
              "      <th>Опекунство</th>\n",
              "      <th>Село</th>\n",
              "      <th>Иностранец</th>\n",
              "      <th>КодФакультета</th>\n",
              "      <th>СрБаллАттестата</th>\n",
              "      <th>Год_Рождения</th>\n",
              "      <th>возраст_пост</th>\n",
              "    </tr>\n",
              "  </thead>\n",
              "  <tbody>\n",
              "    <tr>\n",
              "      <th>0</th>\n",
              "      <td>64996</td>\n",
              "      <td>20608</td>\n",
              "      <td>2014</td>\n",
              "      <td>Жен</td>\n",
              "      <td>ДН</td>\n",
              "      <td>Английский язык</td>\n",
              "      <td>2014.0</td>\n",
              "      <td>0.0</td>\n",
              "      <td>Россия</td>\n",
              "      <td>0.0</td>\n",
              "      <td>0</td>\n",
              "      <td>0.0</td>\n",
              "      <td>0.0</td>\n",
              "      <td>0.0</td>\n",
              "      <td>0.0</td>\n",
              "      <td>40.0</td>\n",
              "      <td>49.0</td>\n",
              "      <td>1995</td>\n",
              "      <td>19</td>\n",
              "    </tr>\n",
              "    <tr>\n",
              "      <th>1</th>\n",
              "      <td>71837</td>\n",
              "      <td>20613</td>\n",
              "      <td>2015</td>\n",
              "      <td>Жен</td>\n",
              "      <td>ДН</td>\n",
              "      <td>Немецкий язык</td>\n",
              "      <td>2014.0</td>\n",
              "      <td>0.0</td>\n",
              "      <td>Россия</td>\n",
              "      <td>0.0</td>\n",
              "      <td>0</td>\n",
              "      <td>0.0</td>\n",
              "      <td>0.0</td>\n",
              "      <td>1.0</td>\n",
              "      <td>0.0</td>\n",
              "      <td>26.0</td>\n",
              "      <td>77.0</td>\n",
              "      <td>1995</td>\n",
              "      <td>20</td>\n",
              "    </tr>\n",
              "    <tr>\n",
              "      <th>2</th>\n",
              "      <td>86587</td>\n",
              "      <td>21210</td>\n",
              "      <td>2018</td>\n",
              "      <td>Жен</td>\n",
              "      <td>ОО</td>\n",
              "      <td>Английский язык</td>\n",
              "      <td>1997.0</td>\n",
              "      <td>0.0</td>\n",
              "      <td>Россия</td>\n",
              "      <td>0.0</td>\n",
              "      <td>1</td>\n",
              "      <td>1.0</td>\n",
              "      <td>0.0</td>\n",
              "      <td>0.0</td>\n",
              "      <td>0.0</td>\n",
              "      <td>34.0</td>\n",
              "      <td>74.0</td>\n",
              "      <td>1973</td>\n",
              "      <td>45</td>\n",
              "    </tr>\n",
              "    <tr>\n",
              "      <th>3</th>\n",
              "      <td>73673</td>\n",
              "      <td>22254</td>\n",
              "      <td>2015</td>\n",
              "      <td>Жен</td>\n",
              "      <td>ОО</td>\n",
              "      <td>Английский язык</td>\n",
              "      <td>2006.0</td>\n",
              "      <td>0.0</td>\n",
              "      <td>Россия</td>\n",
              "      <td>0.0</td>\n",
              "      <td>0</td>\n",
              "      <td>0.0</td>\n",
              "      <td>0.0</td>\n",
              "      <td>0.0</td>\n",
              "      <td>0.0</td>\n",
              "      <td>53.0</td>\n",
              "      <td>57.0</td>\n",
              "      <td>1983</td>\n",
              "      <td>32</td>\n",
              "    </tr>\n",
              "    <tr>\n",
              "      <th>4</th>\n",
              "      <td>54709</td>\n",
              "      <td>15040</td>\n",
              "      <td>2012</td>\n",
              "      <td>Жен</td>\n",
              "      <td>ОО</td>\n",
              "      <td>0</td>\n",
              "      <td>0.0</td>\n",
              "      <td>0.0</td>\n",
              "      <td>0</td>\n",
              "      <td>0.0</td>\n",
              "      <td>1</td>\n",
              "      <td>1.0</td>\n",
              "      <td>0.0</td>\n",
              "      <td>0.0</td>\n",
              "      <td>0.0</td>\n",
              "      <td>36.0</td>\n",
              "      <td>55.0</td>\n",
              "      <td>1994</td>\n",
              "      <td>18</td>\n",
              "    </tr>\n",
              "  </tbody>\n",
              "</table>\n",
              "</div>\n",
              "      <button class=\"colab-df-convert\" onclick=\"convertToInteractive('df-59895ebd-c234-40ef-a2f6-3d6286b9d66a')\"\n",
              "              title=\"Convert this dataframe to an interactive table.\"\n",
              "              style=\"display:none;\">\n",
              "        \n",
              "  <svg xmlns=\"http://www.w3.org/2000/svg\" height=\"24px\"viewBox=\"0 0 24 24\"\n",
              "       width=\"24px\">\n",
              "    <path d=\"M0 0h24v24H0V0z\" fill=\"none\"/>\n",
              "    <path d=\"M18.56 5.44l.94 2.06.94-2.06 2.06-.94-2.06-.94-.94-2.06-.94 2.06-2.06.94zm-11 1L8.5 8.5l.94-2.06 2.06-.94-2.06-.94L8.5 2.5l-.94 2.06-2.06.94zm10 10l.94 2.06.94-2.06 2.06-.94-2.06-.94-.94-2.06-.94 2.06-2.06.94z\"/><path d=\"M17.41 7.96l-1.37-1.37c-.4-.4-.92-.59-1.43-.59-.52 0-1.04.2-1.43.59L10.3 9.45l-7.72 7.72c-.78.78-.78 2.05 0 2.83L4 21.41c.39.39.9.59 1.41.59.51 0 1.02-.2 1.41-.59l7.78-7.78 2.81-2.81c.8-.78.8-2.07 0-2.86zM5.41 20L4 18.59l7.72-7.72 1.47 1.35L5.41 20z\"/>\n",
              "  </svg>\n",
              "      </button>\n",
              "      \n",
              "  <style>\n",
              "    .colab-df-container {\n",
              "      display:flex;\n",
              "      flex-wrap:wrap;\n",
              "      gap: 12px;\n",
              "    }\n",
              "\n",
              "    .colab-df-convert {\n",
              "      background-color: #E8F0FE;\n",
              "      border: none;\n",
              "      border-radius: 50%;\n",
              "      cursor: pointer;\n",
              "      display: none;\n",
              "      fill: #1967D2;\n",
              "      height: 32px;\n",
              "      padding: 0 0 0 0;\n",
              "      width: 32px;\n",
              "    }\n",
              "\n",
              "    .colab-df-convert:hover {\n",
              "      background-color: #E2EBFA;\n",
              "      box-shadow: 0px 1px 2px rgba(60, 64, 67, 0.3), 0px 1px 3px 1px rgba(60, 64, 67, 0.15);\n",
              "      fill: #174EA6;\n",
              "    }\n",
              "\n",
              "    [theme=dark] .colab-df-convert {\n",
              "      background-color: #3B4455;\n",
              "      fill: #D2E3FC;\n",
              "    }\n",
              "\n",
              "    [theme=dark] .colab-df-convert:hover {\n",
              "      background-color: #434B5C;\n",
              "      box-shadow: 0px 1px 3px 1px rgba(0, 0, 0, 0.15);\n",
              "      filter: drop-shadow(0px 1px 2px rgba(0, 0, 0, 0.3));\n",
              "      fill: #FFFFFF;\n",
              "    }\n",
              "  </style>\n",
              "\n",
              "      <script>\n",
              "        const buttonEl =\n",
              "          document.querySelector('#df-59895ebd-c234-40ef-a2f6-3d6286b9d66a button.colab-df-convert');\n",
              "        buttonEl.style.display =\n",
              "          google.colab.kernel.accessAllowed ? 'block' : 'none';\n",
              "\n",
              "        async function convertToInteractive(key) {\n",
              "          const element = document.querySelector('#df-59895ebd-c234-40ef-a2f6-3d6286b9d66a');\n",
              "          const dataTable =\n",
              "            await google.colab.kernel.invokeFunction('convertToInteractive',\n",
              "                                                     [key], {});\n",
              "          if (!dataTable) return;\n",
              "\n",
              "          const docLinkHtml = 'Like what you see? Visit the ' +\n",
              "            '<a target=\"_blank\" href=https://colab.research.google.com/notebooks/data_table.ipynb>data table notebook</a>'\n",
              "            + ' to learn more about interactive tables.';\n",
              "          element.innerHTML = '';\n",
              "          dataTable['output_type'] = 'display_data';\n",
              "          await google.colab.output.renderOutput(dataTable, element);\n",
              "          const docLink = document.createElement('div');\n",
              "          docLink.innerHTML = docLinkHtml;\n",
              "          element.appendChild(docLink);\n",
              "        }\n",
              "      </script>\n",
              "    </div>\n",
              "  </div>\n",
              "  "
            ]
          },
          "metadata": {},
          "execution_count": 82
        }
      ]
    },
    {
      "cell_type": "code",
      "source": [
        "df_test[\"Пол\"] = df_test[\"Пол\"].replace( {'муж':'Муж',\n",
        "                                 0 :'Муж',\n",
        "                                'жен' : 'Жен'}\n",
        "                             ) \n",
        "df_test[\"Изучаемый_Язык\"] = df_test[\"Изучаемый_Язык\"].replace( {'Иностранный язык (Английский)':'Английский язык',\n",
        "                               'Англиийский' :'Английский язык',\n",
        "                               'Иностранный язык (Немецкий)' : 'Немецкий язык',\n",
        "                               'Английский, немецкий языки' : 'Английский язык'}\n",
        "                             ) \n",
        "df_test[\"Основания\"] = df_test[\"Основания\"].replace( {'ЛН':'СН'} )   \n",
        "df_test['Страна_ПП'] = df_test['Страна_ПП'].apply(lambda x: 'Россия' if x=='Россия' else 'зарубеж')\n",
        "\n",
        "df_test = pd.get_dummies(df_test, columns=[\"Пол\", \"Изучаемый_Язык\",\"Основания\",\"Страна_ПП\"], prefix=[\"Пол\", \"Язык\",\"ОСН\",\"страна\"])\n",
        "df_test.head()"
      ],
      "metadata": {
        "colab": {
          "base_uri": "https://localhost:8080/",
          "height": 279
        },
        "id": "hmFvaHXF8x8p",
        "outputId": "2c31f95d-4f12-4128-9d34-629fe936ad1a"
      },
      "execution_count": 83,
      "outputs": [
        {
          "output_type": "execute_result",
          "data": {
            "text/plain": [
              "      ID  Код_группы  Год_Поступления  Год_Окончания_УЗ  Пособие  Общежитие  \\\n",
              "0  64996       20608             2014            2014.0      0.0        0.0   \n",
              "1  71837       20613             2015            2014.0      0.0        0.0   \n",
              "2  86587       21210             2018            1997.0      0.0        0.0   \n",
              "3  73673       22254             2015            2006.0      0.0        0.0   \n",
              "4  54709       15040             2012               0.0      0.0        0.0   \n",
              "\n",
              "   Наличие_Матери  Наличие_Отца  Опекунство  Село  ...  Язык_Немецкий язык  \\\n",
              "0               0           0.0         0.0   0.0  ...                   0   \n",
              "1               0           0.0         0.0   1.0  ...                   1   \n",
              "2               1           1.0         0.0   0.0  ...                   0   \n",
              "3               0           0.0         0.0   0.0  ...                   0   \n",
              "4               1           1.0         0.0   0.0  ...                   0   \n",
              "\n",
              "   Язык_Русский язык  Язык_Французский язык  ОСН_БН  ОСН_ДН  ОСН_ОО  ОСН_СН  \\\n",
              "0                  0                      0       0       1       0       0   \n",
              "1                  0                      0       0       1       0       0   \n",
              "2                  0                      0       0       0       1       0   \n",
              "3                  0                      0       0       0       1       0   \n",
              "4                  0                      0       0       0       1       0   \n",
              "\n",
              "   ОСН_ЦН  страна_Россия  страна_зарубеж  \n",
              "0       0              1               0  \n",
              "1       0              1               0  \n",
              "2       0              1               0  \n",
              "3       0              1               0  \n",
              "4       0              0               1  \n",
              "\n",
              "[5 rows x 29 columns]"
            ],
            "text/html": [
              "\n",
              "  <div id=\"df-18477e0e-504d-45cc-9a9a-c5a2840f6266\">\n",
              "    <div class=\"colab-df-container\">\n",
              "      <div>\n",
              "<style scoped>\n",
              "    .dataframe tbody tr th:only-of-type {\n",
              "        vertical-align: middle;\n",
              "    }\n",
              "\n",
              "    .dataframe tbody tr th {\n",
              "        vertical-align: top;\n",
              "    }\n",
              "\n",
              "    .dataframe thead th {\n",
              "        text-align: right;\n",
              "    }\n",
              "</style>\n",
              "<table border=\"1\" class=\"dataframe\">\n",
              "  <thead>\n",
              "    <tr style=\"text-align: right;\">\n",
              "      <th></th>\n",
              "      <th>ID</th>\n",
              "      <th>Код_группы</th>\n",
              "      <th>Год_Поступления</th>\n",
              "      <th>Год_Окончания_УЗ</th>\n",
              "      <th>Пособие</th>\n",
              "      <th>Общежитие</th>\n",
              "      <th>Наличие_Матери</th>\n",
              "      <th>Наличие_Отца</th>\n",
              "      <th>Опекунство</th>\n",
              "      <th>Село</th>\n",
              "      <th>...</th>\n",
              "      <th>Язык_Немецкий язык</th>\n",
              "      <th>Язык_Русский язык</th>\n",
              "      <th>Язык_Французский язык</th>\n",
              "      <th>ОСН_БН</th>\n",
              "      <th>ОСН_ДН</th>\n",
              "      <th>ОСН_ОО</th>\n",
              "      <th>ОСН_СН</th>\n",
              "      <th>ОСН_ЦН</th>\n",
              "      <th>страна_Россия</th>\n",
              "      <th>страна_зарубеж</th>\n",
              "    </tr>\n",
              "  </thead>\n",
              "  <tbody>\n",
              "    <tr>\n",
              "      <th>0</th>\n",
              "      <td>64996</td>\n",
              "      <td>20608</td>\n",
              "      <td>2014</td>\n",
              "      <td>2014.0</td>\n",
              "      <td>0.0</td>\n",
              "      <td>0.0</td>\n",
              "      <td>0</td>\n",
              "      <td>0.0</td>\n",
              "      <td>0.0</td>\n",
              "      <td>0.0</td>\n",
              "      <td>...</td>\n",
              "      <td>0</td>\n",
              "      <td>0</td>\n",
              "      <td>0</td>\n",
              "      <td>0</td>\n",
              "      <td>1</td>\n",
              "      <td>0</td>\n",
              "      <td>0</td>\n",
              "      <td>0</td>\n",
              "      <td>1</td>\n",
              "      <td>0</td>\n",
              "    </tr>\n",
              "    <tr>\n",
              "      <th>1</th>\n",
              "      <td>71837</td>\n",
              "      <td>20613</td>\n",
              "      <td>2015</td>\n",
              "      <td>2014.0</td>\n",
              "      <td>0.0</td>\n",
              "      <td>0.0</td>\n",
              "      <td>0</td>\n",
              "      <td>0.0</td>\n",
              "      <td>0.0</td>\n",
              "      <td>1.0</td>\n",
              "      <td>...</td>\n",
              "      <td>1</td>\n",
              "      <td>0</td>\n",
              "      <td>0</td>\n",
              "      <td>0</td>\n",
              "      <td>1</td>\n",
              "      <td>0</td>\n",
              "      <td>0</td>\n",
              "      <td>0</td>\n",
              "      <td>1</td>\n",
              "      <td>0</td>\n",
              "    </tr>\n",
              "    <tr>\n",
              "      <th>2</th>\n",
              "      <td>86587</td>\n",
              "      <td>21210</td>\n",
              "      <td>2018</td>\n",
              "      <td>1997.0</td>\n",
              "      <td>0.0</td>\n",
              "      <td>0.0</td>\n",
              "      <td>1</td>\n",
              "      <td>1.0</td>\n",
              "      <td>0.0</td>\n",
              "      <td>0.0</td>\n",
              "      <td>...</td>\n",
              "      <td>0</td>\n",
              "      <td>0</td>\n",
              "      <td>0</td>\n",
              "      <td>0</td>\n",
              "      <td>0</td>\n",
              "      <td>1</td>\n",
              "      <td>0</td>\n",
              "      <td>0</td>\n",
              "      <td>1</td>\n",
              "      <td>0</td>\n",
              "    </tr>\n",
              "    <tr>\n",
              "      <th>3</th>\n",
              "      <td>73673</td>\n",
              "      <td>22254</td>\n",
              "      <td>2015</td>\n",
              "      <td>2006.0</td>\n",
              "      <td>0.0</td>\n",
              "      <td>0.0</td>\n",
              "      <td>0</td>\n",
              "      <td>0.0</td>\n",
              "      <td>0.0</td>\n",
              "      <td>0.0</td>\n",
              "      <td>...</td>\n",
              "      <td>0</td>\n",
              "      <td>0</td>\n",
              "      <td>0</td>\n",
              "      <td>0</td>\n",
              "      <td>0</td>\n",
              "      <td>1</td>\n",
              "      <td>0</td>\n",
              "      <td>0</td>\n",
              "      <td>1</td>\n",
              "      <td>0</td>\n",
              "    </tr>\n",
              "    <tr>\n",
              "      <th>4</th>\n",
              "      <td>54709</td>\n",
              "      <td>15040</td>\n",
              "      <td>2012</td>\n",
              "      <td>0.0</td>\n",
              "      <td>0.0</td>\n",
              "      <td>0.0</td>\n",
              "      <td>1</td>\n",
              "      <td>1.0</td>\n",
              "      <td>0.0</td>\n",
              "      <td>0.0</td>\n",
              "      <td>...</td>\n",
              "      <td>0</td>\n",
              "      <td>0</td>\n",
              "      <td>0</td>\n",
              "      <td>0</td>\n",
              "      <td>0</td>\n",
              "      <td>1</td>\n",
              "      <td>0</td>\n",
              "      <td>0</td>\n",
              "      <td>0</td>\n",
              "      <td>1</td>\n",
              "    </tr>\n",
              "  </tbody>\n",
              "</table>\n",
              "<p>5 rows × 29 columns</p>\n",
              "</div>\n",
              "      <button class=\"colab-df-convert\" onclick=\"convertToInteractive('df-18477e0e-504d-45cc-9a9a-c5a2840f6266')\"\n",
              "              title=\"Convert this dataframe to an interactive table.\"\n",
              "              style=\"display:none;\">\n",
              "        \n",
              "  <svg xmlns=\"http://www.w3.org/2000/svg\" height=\"24px\"viewBox=\"0 0 24 24\"\n",
              "       width=\"24px\">\n",
              "    <path d=\"M0 0h24v24H0V0z\" fill=\"none\"/>\n",
              "    <path d=\"M18.56 5.44l.94 2.06.94-2.06 2.06-.94-2.06-.94-.94-2.06-.94 2.06-2.06.94zm-11 1L8.5 8.5l.94-2.06 2.06-.94-2.06-.94L8.5 2.5l-.94 2.06-2.06.94zm10 10l.94 2.06.94-2.06 2.06-.94-2.06-.94-.94-2.06-.94 2.06-2.06.94z\"/><path d=\"M17.41 7.96l-1.37-1.37c-.4-.4-.92-.59-1.43-.59-.52 0-1.04.2-1.43.59L10.3 9.45l-7.72 7.72c-.78.78-.78 2.05 0 2.83L4 21.41c.39.39.9.59 1.41.59.51 0 1.02-.2 1.41-.59l7.78-7.78 2.81-2.81c.8-.78.8-2.07 0-2.86zM5.41 20L4 18.59l7.72-7.72 1.47 1.35L5.41 20z\"/>\n",
              "  </svg>\n",
              "      </button>\n",
              "      \n",
              "  <style>\n",
              "    .colab-df-container {\n",
              "      display:flex;\n",
              "      flex-wrap:wrap;\n",
              "      gap: 12px;\n",
              "    }\n",
              "\n",
              "    .colab-df-convert {\n",
              "      background-color: #E8F0FE;\n",
              "      border: none;\n",
              "      border-radius: 50%;\n",
              "      cursor: pointer;\n",
              "      display: none;\n",
              "      fill: #1967D2;\n",
              "      height: 32px;\n",
              "      padding: 0 0 0 0;\n",
              "      width: 32px;\n",
              "    }\n",
              "\n",
              "    .colab-df-convert:hover {\n",
              "      background-color: #E2EBFA;\n",
              "      box-shadow: 0px 1px 2px rgba(60, 64, 67, 0.3), 0px 1px 3px 1px rgba(60, 64, 67, 0.15);\n",
              "      fill: #174EA6;\n",
              "    }\n",
              "\n",
              "    [theme=dark] .colab-df-convert {\n",
              "      background-color: #3B4455;\n",
              "      fill: #D2E3FC;\n",
              "    }\n",
              "\n",
              "    [theme=dark] .colab-df-convert:hover {\n",
              "      background-color: #434B5C;\n",
              "      box-shadow: 0px 1px 3px 1px rgba(0, 0, 0, 0.15);\n",
              "      filter: drop-shadow(0px 1px 2px rgba(0, 0, 0, 0.3));\n",
              "      fill: #FFFFFF;\n",
              "    }\n",
              "  </style>\n",
              "\n",
              "      <script>\n",
              "        const buttonEl =\n",
              "          document.querySelector('#df-18477e0e-504d-45cc-9a9a-c5a2840f6266 button.colab-df-convert');\n",
              "        buttonEl.style.display =\n",
              "          google.colab.kernel.accessAllowed ? 'block' : 'none';\n",
              "\n",
              "        async function convertToInteractive(key) {\n",
              "          const element = document.querySelector('#df-18477e0e-504d-45cc-9a9a-c5a2840f6266');\n",
              "          const dataTable =\n",
              "            await google.colab.kernel.invokeFunction('convertToInteractive',\n",
              "                                                     [key], {});\n",
              "          if (!dataTable) return;\n",
              "\n",
              "          const docLinkHtml = 'Like what you see? Visit the ' +\n",
              "            '<a target=\"_blank\" href=https://colab.research.google.com/notebooks/data_table.ipynb>data table notebook</a>'\n",
              "            + ' to learn more about interactive tables.';\n",
              "          element.innerHTML = '';\n",
              "          dataTable['output_type'] = 'display_data';\n",
              "          await google.colab.output.renderOutput(dataTable, element);\n",
              "          const docLink = document.createElement('div');\n",
              "          docLink.innerHTML = docLinkHtml;\n",
              "          element.appendChild(docLink);\n",
              "        }\n",
              "      </script>\n",
              "    </div>\n",
              "  </div>\n",
              "  "
            ]
          },
          "metadata": {},
          "execution_count": 83
        }
      ]
    },
    {
      "cell_type": "code",
      "source": [
        "df_test_pred = xgb_clf.predict(df_test)"
      ],
      "metadata": {
        "id": "0lYg_cpvBbcg"
      },
      "execution_count": 84,
      "outputs": []
    },
    {
      "cell_type": "code",
      "source": [
        "df_submission[\"Статус\"] = df_test_pred\n",
        "df_submission.head(4)"
      ],
      "metadata": {
        "colab": {
          "base_uri": "https://localhost:8080/",
          "height": 175
        },
        "id": "py7AM_IFBbe7",
        "outputId": "19c71768-2820-4ec2-9018-135fa85704d4"
      },
      "execution_count": 85,
      "outputs": [
        {
          "output_type": "execute_result",
          "data": {
            "text/plain": [
              "      ID  Статус\n",
              "0  64996       4\n",
              "1  71837       4\n",
              "2  86587       4\n",
              "3  73673      -1"
            ],
            "text/html": [
              "\n",
              "  <div id=\"df-99fed2ae-e92f-41af-a797-67deab098067\">\n",
              "    <div class=\"colab-df-container\">\n",
              "      <div>\n",
              "<style scoped>\n",
              "    .dataframe tbody tr th:only-of-type {\n",
              "        vertical-align: middle;\n",
              "    }\n",
              "\n",
              "    .dataframe tbody tr th {\n",
              "        vertical-align: top;\n",
              "    }\n",
              "\n",
              "    .dataframe thead th {\n",
              "        text-align: right;\n",
              "    }\n",
              "</style>\n",
              "<table border=\"1\" class=\"dataframe\">\n",
              "  <thead>\n",
              "    <tr style=\"text-align: right;\">\n",
              "      <th></th>\n",
              "      <th>ID</th>\n",
              "      <th>Статус</th>\n",
              "    </tr>\n",
              "  </thead>\n",
              "  <tbody>\n",
              "    <tr>\n",
              "      <th>0</th>\n",
              "      <td>64996</td>\n",
              "      <td>4</td>\n",
              "    </tr>\n",
              "    <tr>\n",
              "      <th>1</th>\n",
              "      <td>71837</td>\n",
              "      <td>4</td>\n",
              "    </tr>\n",
              "    <tr>\n",
              "      <th>2</th>\n",
              "      <td>86587</td>\n",
              "      <td>4</td>\n",
              "    </tr>\n",
              "    <tr>\n",
              "      <th>3</th>\n",
              "      <td>73673</td>\n",
              "      <td>-1</td>\n",
              "    </tr>\n",
              "  </tbody>\n",
              "</table>\n",
              "</div>\n",
              "      <button class=\"colab-df-convert\" onclick=\"convertToInteractive('df-99fed2ae-e92f-41af-a797-67deab098067')\"\n",
              "              title=\"Convert this dataframe to an interactive table.\"\n",
              "              style=\"display:none;\">\n",
              "        \n",
              "  <svg xmlns=\"http://www.w3.org/2000/svg\" height=\"24px\"viewBox=\"0 0 24 24\"\n",
              "       width=\"24px\">\n",
              "    <path d=\"M0 0h24v24H0V0z\" fill=\"none\"/>\n",
              "    <path d=\"M18.56 5.44l.94 2.06.94-2.06 2.06-.94-2.06-.94-.94-2.06-.94 2.06-2.06.94zm-11 1L8.5 8.5l.94-2.06 2.06-.94-2.06-.94L8.5 2.5l-.94 2.06-2.06.94zm10 10l.94 2.06.94-2.06 2.06-.94-2.06-.94-.94-2.06-.94 2.06-2.06.94z\"/><path d=\"M17.41 7.96l-1.37-1.37c-.4-.4-.92-.59-1.43-.59-.52 0-1.04.2-1.43.59L10.3 9.45l-7.72 7.72c-.78.78-.78 2.05 0 2.83L4 21.41c.39.39.9.59 1.41.59.51 0 1.02-.2 1.41-.59l7.78-7.78 2.81-2.81c.8-.78.8-2.07 0-2.86zM5.41 20L4 18.59l7.72-7.72 1.47 1.35L5.41 20z\"/>\n",
              "  </svg>\n",
              "      </button>\n",
              "      \n",
              "  <style>\n",
              "    .colab-df-container {\n",
              "      display:flex;\n",
              "      flex-wrap:wrap;\n",
              "      gap: 12px;\n",
              "    }\n",
              "\n",
              "    .colab-df-convert {\n",
              "      background-color: #E8F0FE;\n",
              "      border: none;\n",
              "      border-radius: 50%;\n",
              "      cursor: pointer;\n",
              "      display: none;\n",
              "      fill: #1967D2;\n",
              "      height: 32px;\n",
              "      padding: 0 0 0 0;\n",
              "      width: 32px;\n",
              "    }\n",
              "\n",
              "    .colab-df-convert:hover {\n",
              "      background-color: #E2EBFA;\n",
              "      box-shadow: 0px 1px 2px rgba(60, 64, 67, 0.3), 0px 1px 3px 1px rgba(60, 64, 67, 0.15);\n",
              "      fill: #174EA6;\n",
              "    }\n",
              "\n",
              "    [theme=dark] .colab-df-convert {\n",
              "      background-color: #3B4455;\n",
              "      fill: #D2E3FC;\n",
              "    }\n",
              "\n",
              "    [theme=dark] .colab-df-convert:hover {\n",
              "      background-color: #434B5C;\n",
              "      box-shadow: 0px 1px 3px 1px rgba(0, 0, 0, 0.15);\n",
              "      filter: drop-shadow(0px 1px 2px rgba(0, 0, 0, 0.3));\n",
              "      fill: #FFFFFF;\n",
              "    }\n",
              "  </style>\n",
              "\n",
              "      <script>\n",
              "        const buttonEl =\n",
              "          document.querySelector('#df-99fed2ae-e92f-41af-a797-67deab098067 button.colab-df-convert');\n",
              "        buttonEl.style.display =\n",
              "          google.colab.kernel.accessAllowed ? 'block' : 'none';\n",
              "\n",
              "        async function convertToInteractive(key) {\n",
              "          const element = document.querySelector('#df-99fed2ae-e92f-41af-a797-67deab098067');\n",
              "          const dataTable =\n",
              "            await google.colab.kernel.invokeFunction('convertToInteractive',\n",
              "                                                     [key], {});\n",
              "          if (!dataTable) return;\n",
              "\n",
              "          const docLinkHtml = 'Like what you see? Visit the ' +\n",
              "            '<a target=\"_blank\" href=https://colab.research.google.com/notebooks/data_table.ipynb>data table notebook</a>'\n",
              "            + ' to learn more about interactive tables.';\n",
              "          element.innerHTML = '';\n",
              "          dataTable['output_type'] = 'display_data';\n",
              "          await google.colab.output.renderOutput(dataTable, element);\n",
              "          const docLink = document.createElement('div');\n",
              "          docLink.innerHTML = docLinkHtml;\n",
              "          element.appendChild(docLink);\n",
              "        }\n",
              "      </script>\n",
              "    </div>\n",
              "  </div>\n",
              "  "
            ]
          },
          "metadata": {},
          "execution_count": 85
        }
      ]
    },
    {
      "cell_type": "code",
      "source": [
        "df_submission.to_csv('submission.csv', index = False)\n",
        "from google.colab import files\n",
        "files.download(\"submission.csv\")\n"
      ],
      "metadata": {
        "id": "hiUyIdnWGgJu",
        "colab": {
          "base_uri": "https://localhost:8080/",
          "height": 17
        },
        "outputId": "5938dbfe-3339-4ee0-f575-1627d14f0974"
      },
      "execution_count": 86,
      "outputs": [
        {
          "output_type": "display_data",
          "data": {
            "text/plain": [
              "<IPython.core.display.Javascript object>"
            ],
            "application/javascript": [
              "\n",
              "    async function download(id, filename, size) {\n",
              "      if (!google.colab.kernel.accessAllowed) {\n",
              "        return;\n",
              "      }\n",
              "      const div = document.createElement('div');\n",
              "      const label = document.createElement('label');\n",
              "      label.textContent = `Downloading \"${filename}\": `;\n",
              "      div.appendChild(label);\n",
              "      const progress = document.createElement('progress');\n",
              "      progress.max = size;\n",
              "      div.appendChild(progress);\n",
              "      document.body.appendChild(div);\n",
              "\n",
              "      const buffers = [];\n",
              "      let downloaded = 0;\n",
              "\n",
              "      const channel = await google.colab.kernel.comms.open(id);\n",
              "      // Send a message to notify the kernel that we're ready.\n",
              "      channel.send({})\n",
              "\n",
              "      for await (const message of channel.messages) {\n",
              "        // Send a message to notify the kernel that we're ready.\n",
              "        channel.send({})\n",
              "        if (message.buffers) {\n",
              "          for (const buffer of message.buffers) {\n",
              "            buffers.push(buffer);\n",
              "            downloaded += buffer.byteLength;\n",
              "            progress.value = downloaded;\n",
              "          }\n",
              "        }\n",
              "      }\n",
              "      const blob = new Blob(buffers, {type: 'application/binary'});\n",
              "      const a = document.createElement('a');\n",
              "      a.href = window.URL.createObjectURL(blob);\n",
              "      a.download = filename;\n",
              "      div.appendChild(a);\n",
              "      a.click();\n",
              "      div.remove();\n",
              "    }\n",
              "  "
            ]
          },
          "metadata": {}
        },
        {
          "output_type": "display_data",
          "data": {
            "text/plain": [
              "<IPython.core.display.Javascript object>"
            ],
            "application/javascript": [
              "download(\"download_9036198e-335a-457a-8f15-5472202fb14a\", \"submission.csv\", 53810)"
            ]
          },
          "metadata": {}
        }
      ]
    },
    {
      "cell_type": "code",
      "source": [
        "\n"
      ],
      "metadata": {
        "id": "GFUcmYQJo0VK"
      },
      "execution_count": 178,
      "outputs": []
    }
  ]
}